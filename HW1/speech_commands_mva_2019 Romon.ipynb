{
 "cells": [
  {
   "cell_type": "markdown",
   "metadata": {},
   "source": [
    "[Part 1](#Part-1)  \n",
    "[Part 2](#Part-2)"
   ]
  },
  {
   "cell_type": "markdown",
   "metadata": {},
   "source": [
    "# Part 1"
   ]
  },
  {
   "cell_type": "code",
   "execution_count": 1,
   "metadata": {},
   "outputs": [
    {
     "name": "stderr",
     "output_type": "stream",
     "text": [
      "Using TensorFlow backend.\n"
     ]
    }
   ],
   "source": [
    "import numpy as np\n",
    "import jiwer\n",
    "import spectral\n",
    "import librosa\n",
    "import IPython\n",
    "import os, glob\n",
    "import ast\n",
    "import scipy.io.wavfile as wav\n",
    "import sklearn\n",
    "from sklearn.neural_network import MLPClassifier\n",
    "import time\n",
    "from tqdm import tqdm\n",
    "import random\n",
    "import matplotlib.pyplot as plt\n",
    "from joblib import dump, load\n",
    "import keras\n",
    "from keras.models import Sequential, load_model\n",
    "from keras.layers import Dense, Dropout, Activation\n",
    "from keras.optimizers import SGD, Adam\n",
    "from keras.callbacks import ReduceLROnPlateau, EarlyStopping, ModelCheckpoint\n",
    "%matplotlib inline\n",
    "#random.seed(777)"
   ]
  },
  {
   "cell_type": "code",
   "execution_count": 2,
   "metadata": {},
   "outputs": [],
   "source": [
    "def txt2list(filename):\n",
    "    lines_list = []\n",
    "    with open(filename, 'r') as txt:\n",
    "        for line in txt:\n",
    "            lines_list.append(line.rstrip('\\n'))\n",
    "    return lines_list\n",
    "\n",
    "def transform_wavs(wavs_list, feature_func):\n",
    "    features = []\n",
    "    for wav in wavs_list:\n",
    "        features.append(feature_func.transform(wav).flatten())\n",
    "    return features\n",
    "\n",
    "def pad(features, min_len=1):\n",
    "    padded_features =[]\n",
    "    for feat_file in features:\n",
    "        min_len = max(min_len, feat_file.shape[0])\n",
    "    for feat_file in features:\n",
    "        pad_size = min_len - feat_file.shape[0]\n",
    "        left_pad = pad_size // 2\n",
    "        right_pad = pad_size - left_pad\n",
    "        padded_features.append(np.pad(feat_file, ((left_pad, right_pad),), 'constant', constant_values=(0, 0)))\n",
    "    return padded_features\n",
    "\n",
    "path_to_wav = './speech_commands/'\n",
    "directories_speech_commands = os.listdir(path_to_wav)\n",
    "directories_speech_commands = [x for x in directories_speech_commands if os.path.isdir(os.path.join(path_to_wav,x))]\n",
    "directories_speech_commands = [x for x in directories_speech_commands if x != '_background_noise_']\n",
    "directories_speech_commands\n",
    "label_set = directories_speech_commands\n",
    "nb_ex_per_class = 1000 # To have balance classes for the NN/Logistic Regression\n",
    "# Valid set\n",
    "valid_list = txt2list('./speech_commands/validation_list.txt')\n",
    "# Test set\n",
    "test_list = txt2list('./speech_commands/testing_list.txt')"
   ]
  },
  {
   "cell_type": "code",
   "execution_count": 3,
   "metadata": {},
   "outputs": [
    {
     "data": {
      "text/plain": [
       "30"
      ]
     },
     "execution_count": 3,
     "metadata": {},
     "output_type": "execute_result"
    }
   ],
   "source": [
    "len(label_set)"
   ]
  },
  {
   "cell_type": "code",
   "execution_count": 4,
   "metadata": {},
   "outputs": [
    {
     "name": "stdout",
     "output_type": "stream",
     "text": [
      "Train files:30000\n",
      "Valid files:6798\n",
      "Test files:6835\n",
      "Time to output features: 164.30057907104492\n"
     ]
    }
   ],
   "source": [
    "# Iterate over files\n",
    "train_wavs = []\n",
    "train_labels = []\n",
    "\n",
    "valid_wavs = []\n",
    "valid_labels = []\n",
    "\n",
    "test_wavs = []\n",
    "test_labels = []\n",
    "\n",
    "start = time.time()\n",
    "\n",
    "for root, dirs, files in os.walk(\"speech_commands\"):\n",
    "    if \"_background_noise_\" in root:\n",
    "        continue\n",
    "    for filename in files:\n",
    "        if not filename.endswith('.wav'):\n",
    "            continue\n",
    "        command = root.split(\"/\")[-1]\n",
    "        if command not in label_set:\n",
    "            continue\n",
    "        else:\n",
    "            label = label_set.index(command)\n",
    "        full_name = os.path.join(root, filename)\n",
    "        partial_path = '/'.join([command, filename])\n",
    "        if partial_path in valid_list: #and len(valid_labels) < 1000:\n",
    "            fs, waveform = wav.read(full_name)\n",
    "            valid_wavs.append(waveform)\n",
    "            valid_labels.append(label)\n",
    "        elif partial_path in test_list: #and len(test_labels) < 1000:\n",
    "            fs, waveform = wav.read(full_name)\n",
    "            test_wavs.append(waveform)\n",
    "            test_labels.append(label)\n",
    "        elif train_labels.count(label) < nb_ex_per_class:\n",
    "            fs, waveform = wav.read(full_name)\n",
    "            train_wavs.append(waveform)\n",
    "            train_labels.append(label)\n",
    "# Print data statistics\n",
    "\n",
    "print(\"Train files:\" + str(len(train_wavs)))\n",
    "print(\"Valid files:\" + str(len(valid_wavs)))\n",
    "print(\"Test files:\" + str(len(test_wavs)))\n",
    "\n",
    "end = time.time()\n",
    "\n",
    "print(\"Time to output features: \" + str(end-start))"
   ]
  },
  {
   "cell_type": "code",
   "execution_count": 5,
   "metadata": {},
   "outputs": [
    {
     "data": {
      "image/png": "[encoded data removed]",
      "text/plain": [
       "<Figure size 1080x288 with 3 Axes>"
      ]
     },
     "metadata": {
      "needs_background": "light"
     },
     "output_type": "display_data"
    }
   ],
   "source": [
    "f, axs = plt.subplots(1, 3, figsize = (15,4))\n",
    "axs[0].hist(train_labels, bins=30, color='C0', density=False, ec='black', )\n",
    "axs[0].set_xlim(0,29)\n",
    "axs[0].set_xlabel('Classes in the train set')\n",
    "axs[1].hist(valid_labels, bins=30, color='C0', density=False, ec='black', )\n",
    "axs[1].set_xlim(0,29)\n",
    "axs[1].set_xlabel('Classes in the validation set')\n",
    "axs[2].hist(test_labels, bins=30, color='C0', density=False, ec='black', )\n",
    "axs[2].set_xlim(0,29)\n",
    "axs[2].set_xlabel('Classes in the test set')\n",
    "plt.savefig('plot.eps', bbox_inches='tight')\n",
    "plt.show()"
   ]
  },
  {
   "cell_type": "markdown",
   "metadata": {},
   "source": [
    "# I. Melfilter banks"
   ]
  },
  {
   "cell_type": "markdown",
   "metadata": {},
   "source": [
    "## 1. Without deltas"
   ]
  },
  {
   "cell_type": "code",
   "execution_count": 44,
   "metadata": {},
   "outputs": [
    {
     "name": "stdout",
     "output_type": "stream",
     "text": [
      "Time to output features: 346.20458817481995\n",
      "(30000, 2626)\n"
     ]
    }
   ],
   "source": [
    "framerate = 16000\n",
    "melfbanks = spectral.Spectral(nfilt=26,\n",
    "                    ncep=0,\n",
    "                    do_dct=False,\n",
    "                    lowerf=300, ####\n",
    "                    upperf=8000, ####\n",
    "                    alpha=0.97, #??\n",
    "                    fs=framerate,\n",
    "                    frate=100,  #??\n",
    "                    wlen=0.025,\n",
    "                    nfft=512,\n",
    "                    compression='log',\n",
    "                    do_deltas=False,\n",
    "                    do_deltasdeltas=False)\n",
    "\n",
    "# Choose the feature function\n",
    "feature_function = melfbanks\n",
    "\n",
    "start = time.time()\n",
    "train_feats = np.asarray(pad(transform_wavs(train_wavs, feature_function)))\n",
    "valid_feats = np.asarray(pad(transform_wavs(valid_wavs, feature_function)))\n",
    "test_feats = np.asarray(pad(transform_wavs(test_wavs, feature_function)))\n",
    "end = time.time()\n",
    "\n",
    "print(\"Time to output features: \" + str(end-start))\n",
    "print(train_feats.shape)"
   ]
  },
  {
   "cell_type": "markdown",
   "metadata": {},
   "source": [
    "### a) Logistic regression with SGD"
   ]
  },
  {
   "cell_type": "code",
   "execution_count": 15,
   "metadata": {},
   "outputs": [
    {
     "name": "stdout",
     "output_type": "stream",
     "text": [
      "Training time: 327.3744127750397\n",
      "Best alpha: 0.001\n",
      "Accuracy on train set 30.73%\n",
      "Accuracy on valid set 27.27272727272727%\n"
     ]
    },
    {
     "data": {
      "text/plain": [
       "['mel_nodelta_logreg_sgd.joblib']"
      ]
     },
     "execution_count": 15,
     "metadata": {},
     "output_type": "execute_result"
    }
   ],
   "source": [
    "from sklearn.model_selection import GridSearchCV\n",
    "\n",
    "logreg = sklearn.linear_model.SGDClassifier(loss='log', penalty='l1', n_jobs=4,\n",
    "                                            learning_rate='optimal', early_stopping=True, tol=1,\n",
    "                                            validation_fraction=0.3, n_iter_no_change=5)\n",
    "\n",
    "alphas = [0.01, 0.005, 0.001, 0.0005, 0.0001]\n",
    "clf = GridSearchCV(estimator=logreg, param_grid=dict(alpha=alphas),\n",
    "                   n_jobs=4, scoring='accuracy', cv=3)\n",
    "\n",
    "start = time.time()\n",
    "clf.fit(train_feats, train_labels)\n",
    "end = time.time()\n",
    "print(\"Training time: \" + str(end-start))\n",
    "print(\"Best alpha:\", clf.best_estimator_.alpha)\n",
    "print(\"Accuracy on train set \" + str(100*clf.score(train_feats, train_labels)) + \"%\")\n",
    "print(\"Accuracy on valid set \" + str(100*clf.score(valid_feats, valid_labels)) + \"%\")\n",
    "dump(clf, 'mel_nodelta_logreg_sgd.joblib') "
   ]
  },
  {
   "cell_type": "markdown",
   "metadata": {},
   "source": [
    "### b) Logistic regression with SGD and scaled features"
   ]
  },
  {
   "cell_type": "code",
   "execution_count": 16,
   "metadata": {},
   "outputs": [
    {
     "name": "stdout",
     "output_type": "stream",
     "text": [
      "Training time: 373.6323437690735\n",
      "Best alpha: 0.0001\n",
      "Accuracy on train set 38.373333333333335%\n",
      "Accuracy on valid set 32.671373933509855%\n"
     ]
    },
    {
     "data": {
      "text/plain": [
       "['mel_nodelta_logreg_sgd_scaled.joblib']"
      ]
     },
     "execution_count": 16,
     "metadata": {},
     "output_type": "execute_result"
    }
   ],
   "source": [
    "from sklearn import preprocessing\n",
    "\n",
    "logreg_scaled = sklearn.linear_model.SGDClassifier(loss='log', penalty='l1', n_jobs=4,\n",
    "                                            learning_rate='optimal', early_stopping=True, tol=1,\n",
    "                                            validation_fraction=0.3, n_iter_no_change=5)\n",
    "\n",
    "alphas = [0.01, 0.005, 0.001, 0.0005, 0.0001]\n",
    "clf_scaled = GridSearchCV(estimator=logreg_scaled, param_grid=dict(alpha=alphas),\n",
    "                   n_jobs=4, scoring='accuracy', cv=3)\n",
    "\n",
    "train_feats_scaled = preprocessing.scale(train_feats)\n",
    "valid_feats_scaled = preprocessing.scale(valid_feats)\n",
    "\n",
    "start = time.time()\n",
    "clf_scaled.fit(train_feats_scaled, train_labels)\n",
    "end = time.time()\n",
    "print(\"Training time: \" + str(end-start))\n",
    "print(\"Best alpha:\", clf_scaled.best_estimator_.alpha)\n",
    "print(\"Accuracy on train set \" + str(100*clf_scaled.score(train_feats_scaled, train_labels)) + \"%\")\n",
    "print(\"Accuracy on valid set \" + str(100*clf_scaled.score(valid_feats_scaled, valid_labels)) + \"%\")\n",
    "dump(clf_scaled, 'mel_nodelta_logreg_sgd_scaled.joblib') "
   ]
  },
  {
   "cell_type": "markdown",
   "metadata": {},
   "source": [
    "### c) MLP"
   ]
  },
  {
   "cell_type": "code",
   "execution_count": 38,
   "metadata": {},
   "outputs": [
    {
     "name": "stdout",
     "output_type": "stream",
     "text": [
      "Train on 30000 samples, validate on 6798 samples\n",
      "Epoch 1/100\n",
      "30000/30000 [==============================] - 4s 127us/step - loss: 6.0453 - acc: 0.0493 - val_loss: 3.3003 - val_acc: 0.0858\n",
      "\n",
      "Epoch 00001: val_acc improved from -inf to 0.08576, saving model to ./mel_nodelta_keras.hdf5\n",
      "Epoch 2/100\n",
      "30000/30000 [==============================] - 1s 49us/step - loss: 3.3075 - acc: 0.0806 - val_loss: 3.1487 - val_acc: 0.1322\n",
      "\n",
      "Epoch 00002: val_acc improved from 0.08576 to 0.13224, saving model to ./mel_nodelta_keras.hdf5\n",
      "Epoch 3/100\n",
      "30000/30000 [==============================] - 1s 49us/step - loss: 3.1681 - acc: 0.1136 - val_loss: 2.9677 - val_acc: 0.1833\n",
      "\n",
      "Epoch 00003: val_acc improved from 0.13224 to 0.18329, saving model to ./mel_nodelta_keras.hdf5\n",
      "Epoch 4/100\n",
      "30000/30000 [==============================] - 1s 49us/step - loss: 3.0308 - acc: 0.1465 - val_loss: 2.8406 - val_acc: 0.2195\n",
      "\n",
      "Epoch 00004: val_acc improved from 0.18329 to 0.21948, saving model to ./mel_nodelta_keras.hdf5\n",
      "Epoch 5/100\n",
      "30000/30000 [==============================] - 1s 49us/step - loss: 2.8954 - acc: 0.1771 - val_loss: 2.6607 - val_acc: 0.2742\n",
      "\n",
      "Epoch 00005: val_acc improved from 0.21948 to 0.27420, saving model to ./mel_nodelta_keras.hdf5\n",
      "Epoch 6/100\n",
      "30000/30000 [==============================] - 1s 49us/step - loss: 2.7599 - acc: 0.2128 - val_loss: 2.5237 - val_acc: 0.3129\n",
      "\n",
      "Epoch 00006: val_acc improved from 0.27420 to 0.31289, saving model to ./mel_nodelta_keras.hdf5\n",
      "Epoch 7/100\n",
      "30000/30000 [==============================] - 1s 50us/step - loss: 2.6297 - acc: 0.2391 - val_loss: 2.3552 - val_acc: 0.3542\n",
      "\n",
      "Epoch 00007: val_acc improved from 0.31289 to 0.35422, saving model to ./mel_nodelta_keras.hdf5\n",
      "Epoch 8/100\n",
      "30000/30000 [==============================] - 1s 50us/step - loss: 2.5010 - acc: 0.2739 - val_loss: 2.2307 - val_acc: 0.3850\n",
      "\n",
      "Epoch 00008: val_acc improved from 0.35422 to 0.38497, saving model to ./mel_nodelta_keras.hdf5\n",
      "Epoch 9/100\n",
      "30000/30000 [==============================] - 1s 50us/step - loss: 2.3711 - acc: 0.3068 - val_loss: 2.0870 - val_acc: 0.4173\n",
      "\n",
      "Epoch 00009: val_acc improved from 0.38497 to 0.41733, saving model to ./mel_nodelta_keras.hdf5\n",
      "Epoch 10/100\n",
      "30000/30000 [==============================] - 1s 49us/step - loss: 2.2545 - acc: 0.3384 - val_loss: 2.0395 - val_acc: 0.4241\n",
      "\n",
      "Epoch 00010: val_acc improved from 0.41733 to 0.42410, saving model to ./mel_nodelta_keras.hdf5\n",
      "Epoch 11/100\n",
      "30000/30000 [==============================] - 1s 50us/step - loss: 2.1827 - acc: 0.3569 - val_loss: 1.9526 - val_acc: 0.4423\n",
      "\n",
      "Epoch 00011: val_acc improved from 0.42410 to 0.44234, saving model to ./mel_nodelta_keras.hdf5\n",
      "Epoch 12/100\n",
      "30000/30000 [==============================] - 2s 50us/step - loss: 2.0708 - acc: 0.3853 - val_loss: 1.8058 - val_acc: 0.4919\n",
      "\n",
      "Epoch 00012: val_acc improved from 0.44234 to 0.49191, saving model to ./mel_nodelta_keras.hdf5\n",
      "Epoch 13/100\n",
      "30000/30000 [==============================] - 1s 50us/step - loss: 1.9734 - acc: 0.4133 - val_loss: 1.7477 - val_acc: 0.5051\n",
      "\n",
      "Epoch 00013: val_acc improved from 0.49191 to 0.50515, saving model to ./mel_nodelta_keras.hdf5\n",
      "Epoch 14/100\n",
      "30000/30000 [==============================] - 2s 50us/step - loss: 1.8748 - acc: 0.4383 - val_loss: 1.6496 - val_acc: 0.5309\n",
      "\n",
      "Epoch 00014: val_acc improved from 0.50515 to 0.53089, saving model to ./mel_nodelta_keras.hdf5\n",
      "Epoch 15/100\n",
      "30000/30000 [==============================] - 2s 50us/step - loss: 1.8111 - acc: 0.4571 - val_loss: 1.5596 - val_acc: 0.5599\n",
      "\n",
      "Epoch 00015: val_acc improved from 0.53089 to 0.55987, saving model to ./mel_nodelta_keras.hdf5\n",
      "Epoch 16/100\n",
      "30000/30000 [==============================] - 1s 50us/step - loss: 1.7332 - acc: 0.4805 - val_loss: 1.5237 - val_acc: 0.5600\n",
      "\n",
      "Epoch 00016: val_acc improved from 0.55987 to 0.56002, saving model to ./mel_nodelta_keras.hdf5\n",
      "Epoch 17/100\n",
      "30000/30000 [==============================] - 2s 50us/step - loss: 1.6699 - acc: 0.4970 - val_loss: 1.4808 - val_acc: 0.5728\n",
      "\n",
      "Epoch 00017: val_acc improved from 0.56002 to 0.57282, saving model to ./mel_nodelta_keras.hdf5\n",
      "Epoch 18/100\n",
      "30000/30000 [==============================] - 2s 50us/step - loss: 1.6031 - acc: 0.5177 - val_loss: 1.4801 - val_acc: 0.5655\n",
      "\n",
      "Epoch 00018: val_acc did not improve from 0.57282\n",
      "Epoch 19/100\n",
      "30000/30000 [==============================] - 2s 50us/step - loss: 1.5812 - acc: 0.5239 - val_loss: 1.3775 - val_acc: 0.6062\n",
      "\n",
      "Epoch 00019: val_acc improved from 0.57282 to 0.60621, saving model to ./mel_nodelta_keras.hdf5\n",
      "Epoch 20/100\n",
      "30000/30000 [==============================] - 2s 51us/step - loss: 1.5003 - acc: 0.5480 - val_loss: 1.3412 - val_acc: 0.6114\n",
      "\n",
      "Epoch 00020: val_acc improved from 0.60621 to 0.61136, saving model to ./mel_nodelta_keras.hdf5\n",
      "Epoch 21/100\n",
      "30000/30000 [==============================] - 1s 49us/step - loss: 1.4446 - acc: 0.5638 - val_loss: 1.2863 - val_acc: 0.6256\n",
      "\n",
      "Epoch 00021: val_acc improved from 0.61136 to 0.62563, saving model to ./mel_nodelta_keras.hdf5\n",
      "Epoch 22/100\n",
      "30000/30000 [==============================] - 1s 49us/step - loss: 1.3859 - acc: 0.5814 - val_loss: 1.2606 - val_acc: 0.6302\n",
      "\n",
      "Epoch 00022: val_acc improved from 0.62563 to 0.63019, saving model to ./mel_nodelta_keras.hdf5\n",
      "Epoch 23/100\n",
      "30000/30000 [==============================] - 1s 49us/step - loss: 1.3491 - acc: 0.5902 - val_loss: 1.2853 - val_acc: 0.6168\n",
      "\n",
      "Epoch 00023: val_acc did not improve from 0.63019\n",
      "Epoch 24/100\n",
      "30000/30000 [==============================] - 1s 49us/step - loss: 1.3207 - acc: 0.5966 - val_loss: 1.1861 - val_acc: 0.6490\n",
      "\n",
      "Epoch 00024: val_acc improved from 0.63019 to 0.64901, saving model to ./mel_nodelta_keras.hdf5\n",
      "Epoch 25/100\n",
      "30000/30000 [==============================] - 1s 49us/step - loss: 1.2522 - acc: 0.6213 - val_loss: 1.1962 - val_acc: 0.6520\n",
      "\n",
      "Epoch 00025: val_acc improved from 0.64901 to 0.65196, saving model to ./mel_nodelta_keras.hdf5\n",
      "Epoch 26/100\n",
      "30000/30000 [==============================] - 1s 49us/step - loss: 1.2181 - acc: 0.6307 - val_loss: 1.1462 - val_acc: 0.6665\n",
      "\n",
      "Epoch 00026: val_acc improved from 0.65196 to 0.66652, saving model to ./mel_nodelta_keras.hdf5\n",
      "Epoch 27/100\n",
      "30000/30000 [==============================] - 1s 50us/step - loss: 1.1857 - acc: 0.6393 - val_loss: 1.1321 - val_acc: 0.6737\n",
      "\n",
      "Epoch 00027: val_acc improved from 0.66652 to 0.67373, saving model to ./mel_nodelta_keras.hdf5\n",
      "Epoch 28/100\n",
      "30000/30000 [==============================] - 1s 50us/step - loss: 1.1812 - acc: 0.6405 - val_loss: 1.1204 - val_acc: 0.6717\n",
      "\n",
      "Epoch 00028: val_acc did not improve from 0.67373\n",
      "Epoch 29/100\n",
      "30000/30000 [==============================] - 1s 50us/step - loss: 1.1513 - acc: 0.6460 - val_loss: 1.1026 - val_acc: 0.6726\n",
      "\n",
      "Epoch 00029: val_acc did not improve from 0.67373\n",
      "Epoch 30/100\n",
      "30000/30000 [==============================] - 2s 50us/step - loss: 1.0996 - acc: 0.6649 - val_loss: 1.0776 - val_acc: 0.6792\n",
      "\n",
      "Epoch 00030: val_acc improved from 0.67373 to 0.67917, saving model to ./mel_nodelta_keras.hdf5\n",
      "Epoch 31/100\n",
      "30000/30000 [==============================] - 2s 50us/step - loss: 1.0712 - acc: 0.6724 - val_loss: 1.0576 - val_acc: 0.6898\n",
      "\n",
      "Epoch 00031: val_acc improved from 0.67917 to 0.68976, saving model to ./mel_nodelta_keras.hdf5\n",
      "Epoch 32/100\n",
      "30000/30000 [==============================] - 1s 50us/step - loss: 1.0430 - acc: 0.6789 - val_loss: 1.0648 - val_acc: 0.6842\n",
      "\n",
      "Epoch 00032: val_acc did not improve from 0.68976\n",
      "Epoch 33/100\n",
      "30000/30000 [==============================] - 1s 49us/step - loss: 1.0145 - acc: 0.6888 - val_loss: 1.0249 - val_acc: 0.6983\n",
      "\n",
      "Epoch 00033: val_acc improved from 0.68976 to 0.69829, saving model to ./mel_nodelta_keras.hdf5\n",
      "Epoch 34/100\n",
      "30000/30000 [==============================] - 1s 49us/step - loss: 1.0032 - acc: 0.6937 - val_loss: 1.0601 - val_acc: 0.6893\n",
      "\n",
      "Epoch 00034: val_acc did not improve from 0.69829\n",
      "Epoch 35/100\n",
      "30000/30000 [==============================] - 1s 50us/step - loss: 0.9791 - acc: 0.6976 - val_loss: 1.0087 - val_acc: 0.7076\n",
      "\n",
      "Epoch 00035: val_acc improved from 0.69829 to 0.70756, saving model to ./mel_nodelta_keras.hdf5\n",
      "Epoch 36/100\n",
      "30000/30000 [==============================] - 1s 49us/step - loss: 0.9538 - acc: 0.7044 - val_loss: 1.0098 - val_acc: 0.7009\n",
      "\n",
      "Epoch 00036: val_acc did not improve from 0.70756\n",
      "Epoch 37/100\n"
     ]
    },
    {
     "name": "stdout",
     "output_type": "stream",
     "text": [
      "30000/30000 [==============================] - 1s 50us/step - loss: 0.9527 - acc: 0.7046 - val_loss: 1.0355 - val_acc: 0.6920\n",
      "\n",
      "Epoch 00037: val_acc did not improve from 0.70756\n",
      "Epoch 38/100\n",
      "30000/30000 [==============================] - 1s 50us/step - loss: 0.9126 - acc: 0.7206 - val_loss: 1.0145 - val_acc: 0.7095\n",
      "\n",
      "Epoch 00038: val_acc improved from 0.70756 to 0.70947, saving model to ./mel_nodelta_keras.hdf5\n",
      "Epoch 39/100\n",
      "30000/30000 [==============================] - 1s 50us/step - loss: 0.8943 - acc: 0.7248 - val_loss: 0.9905 - val_acc: 0.7127\n",
      "\n",
      "Epoch 00039: val_acc improved from 0.70947 to 0.71271, saving model to ./mel_nodelta_keras.hdf5\n",
      "Epoch 40/100\n",
      "30000/30000 [==============================] - 1s 50us/step - loss: 0.8623 - acc: 0.7336 - val_loss: 0.9639 - val_acc: 0.7198\n",
      "\n",
      "Epoch 00040: val_acc improved from 0.71271 to 0.71977, saving model to ./mel_nodelta_keras.hdf5\n",
      "Epoch 41/100\n",
      "30000/30000 [==============================] - 2s 50us/step - loss: 0.8294 - acc: 0.7414 - val_loss: 0.9720 - val_acc: 0.7171\n",
      "\n",
      "Epoch 00041: val_acc did not improve from 0.71977\n",
      "Epoch 42/100\n",
      "30000/30000 [==============================] - 2s 50us/step - loss: 0.8338 - acc: 0.7402 - val_loss: 1.0095 - val_acc: 0.7008\n",
      "\n",
      "Epoch 00042: val_acc did not improve from 0.71977\n",
      "Epoch 43/100\n",
      "30000/30000 [==============================] - 1s 50us/step - loss: 0.8267 - acc: 0.7419 - val_loss: 0.9511 - val_acc: 0.7264\n",
      "\n",
      "Epoch 00043: val_acc improved from 0.71977 to 0.72639, saving model to ./mel_nodelta_keras.hdf5\n"
     ]
    },
    {
     "data": {
      "text/plain": [
       "<keras.callbacks.History at 0x7f30affc5ac8>"
      ]
     },
     "execution_count": 38,
     "metadata": {},
     "output_type": "execute_result"
    }
   ],
   "source": [
    "train_labels2 = keras.utils.to_categorical(train_labels, num_classes=30)\n",
    "valid_labels2 = keras.utils.to_categorical(valid_labels, num_classes=30)\n",
    "\n",
    "model = Sequential()\n",
    "model.add(Dense(2048, activation='relu', input_dim=train_feats.shape[1]))\n",
    "model.add(Dense(1024, activation='relu'))\n",
    "model.add(Dense(512, activation='relu'))\n",
    "model.add(Dropout(0.5))\n",
    "model.add(Dense(128, activation='linear'))\n",
    "model.add(Dense(64, activation='linear'))\n",
    "model.add(Dense(30, activation='softmax'))\n",
    "\n",
    "adam = Adam(lr=0.0001)\n",
    "model.compile(loss='categorical_crossentropy',\n",
    "              optimizer=adam,\n",
    "              metrics=['accuracy'])\n",
    "\n",
    "reduce = ReduceLROnPlateau(monitor='val_loss', factor=0.5, patience=10, mode='auto', verbose=1)\n",
    "early = EarlyStopping(monitor='val_loss', min_delta=0.1, patience=10, mode='auto')\n",
    "checkpointer = ModelCheckpoint(filepath='./mel_nodelta_keras.hdf5', monitor='val_acc',\n",
    "                               verbose=1, save_best_only=True)\n",
    "\n",
    "model.fit(train_feats, train_labels2,  validation_data=(valid_feats, valid_labels2), \n",
    "          epochs=100, batch_size=1024, callbacks=[checkpointer, early])"
   ]
  },
  {
   "cell_type": "code",
   "execution_count": 34,
   "metadata": {},
   "outputs": [
    {
     "name": "stdout",
     "output_type": "stream",
     "text": [
      "6798/6798 [==============================] - 1s 101us/step\n",
      "Validation accuracy: 0.6423948220240084\n"
     ]
    }
   ],
   "source": [
    "score, acc = model.evaluate(valid_feats, valid_labels2)\n",
    "print('Validation accuracy:', acc)"
   ]
  },
  {
   "cell_type": "markdown",
   "metadata": {},
   "source": [
    "### d) MLP with scaled features"
   ]
  },
  {
   "cell_type": "code",
   "execution_count": 45,
   "metadata": {},
   "outputs": [
    {
     "name": "stdout",
     "output_type": "stream",
     "text": [
      "Train on 30000 samples, validate on 6798 samples\n",
      "Epoch 1/100\n",
      "30000/30000 [==============================] - 4s 148us/step - loss: 3.2671 - acc: 0.1127 - val_loss: 2.7804 - val_acc: 0.2510\n",
      "\n",
      "Epoch 00001: val_acc improved from -inf to 0.25096, saving model to ./mel_nodelta_keras_scaled.hdf5\n",
      "Epoch 2/100\n",
      "30000/30000 [==============================] - 2s 55us/step - loss: 2.6558 - acc: 0.2539 - val_loss: 2.2225 - val_acc: 0.4185\n",
      "\n",
      "Epoch 00002: val_acc improved from 0.25096 to 0.41851, saving model to ./mel_nodelta_keras_scaled.hdf5\n",
      "Epoch 3/100\n",
      "30000/30000 [==============================] - 2s 50us/step - loss: 2.1916 - acc: 0.3756 - val_loss: 1.8260 - val_acc: 0.5154\n",
      "\n",
      "Epoch 00003: val_acc improved from 0.41851 to 0.51545, saving model to ./mel_nodelta_keras_scaled.hdf5\n",
      "Epoch 4/100\n",
      "30000/30000 [==============================] - 1s 50us/step - loss: 1.8511 - acc: 0.4710 - val_loss: 1.5838 - val_acc: 0.5750\n",
      "\n",
      "Epoch 00004: val_acc improved from 0.51545 to 0.57502, saving model to ./mel_nodelta_keras_scaled.hdf5\n",
      "Epoch 5/100\n",
      "30000/30000 [==============================] - 1s 50us/step - loss: 1.6029 - acc: 0.5360 - val_loss: 1.4141 - val_acc: 0.6121\n",
      "\n",
      "Epoch 00005: val_acc improved from 0.57502 to 0.61209, saving model to ./mel_nodelta_keras_scaled.hdf5\n",
      "Epoch 6/100\n",
      "30000/30000 [==============================] - 1s 50us/step - loss: 1.4244 - acc: 0.5838 - val_loss: 1.2908 - val_acc: 0.6470\n",
      "\n",
      "Epoch 00006: val_acc improved from 0.61209 to 0.64695, saving model to ./mel_nodelta_keras_scaled.hdf5\n",
      "Epoch 7/100\n",
      "30000/30000 [==============================] - 1s 50us/step - loss: 1.2814 - acc: 0.6224 - val_loss: 1.1968 - val_acc: 0.6667\n",
      "\n",
      "Epoch 00007: val_acc improved from 0.64695 to 0.66667, saving model to ./mel_nodelta_keras_scaled.hdf5\n",
      "Epoch 8/100\n",
      "30000/30000 [==============================] - 1s 50us/step - loss: 1.1701 - acc: 0.6557 - val_loss: 1.1382 - val_acc: 0.6796\n",
      "\n",
      "Epoch 00008: val_acc improved from 0.66667 to 0.67961, saving model to ./mel_nodelta_keras_scaled.hdf5\n",
      "Epoch 9/100\n",
      "30000/30000 [==============================] - 1s 49us/step - loss: 1.0892 - acc: 0.6803 - val_loss: 1.0893 - val_acc: 0.6915\n",
      "\n",
      "Epoch 00009: val_acc improved from 0.67961 to 0.69153, saving model to ./mel_nodelta_keras_scaled.hdf5\n",
      "Epoch 10/100\n",
      "30000/30000 [==============================] - 1s 47us/step - loss: 1.0024 - acc: 0.7048 - val_loss: 1.0364 - val_acc: 0.7081\n",
      "\n",
      "Epoch 00010: val_acc improved from 0.69153 to 0.70815, saving model to ./mel_nodelta_keras_scaled.hdf5\n",
      "Epoch 11/100\n",
      "30000/30000 [==============================] - 1s 49us/step - loss: 0.9386 - acc: 0.7174 - val_loss: 1.0189 - val_acc: 0.7089\n",
      "\n",
      "Epoch 00011: val_acc improved from 0.70815 to 0.70888, saving model to ./mel_nodelta_keras_scaled.hdf5\n",
      "Epoch 12/100\n",
      "30000/30000 [==============================] - 1s 49us/step - loss: 0.8765 - acc: 0.7357 - val_loss: 0.9671 - val_acc: 0.7211\n",
      "\n",
      "Epoch 00012: val_acc improved from 0.70888 to 0.72109, saving model to ./mel_nodelta_keras_scaled.hdf5\n",
      "Epoch 13/100\n",
      "30000/30000 [==============================] - 2s 50us/step - loss: 0.8198 - acc: 0.7574 - val_loss: 0.9497 - val_acc: 0.7273\n",
      "\n",
      "Epoch 00013: val_acc improved from 0.72109 to 0.72727, saving model to ./mel_nodelta_keras_scaled.hdf5\n",
      "Epoch 14/100\n",
      "30000/30000 [==============================] - 2s 51us/step - loss: 0.7766 - acc: 0.7640 - val_loss: 0.9285 - val_acc: 0.7314\n",
      "\n",
      "Epoch 00014: val_acc improved from 0.72727 to 0.73139, saving model to ./mel_nodelta_keras_scaled.hdf5\n",
      "Epoch 15/100\n",
      "30000/30000 [==============================] - 2s 51us/step - loss: 0.7297 - acc: 0.7812 - val_loss: 0.9021 - val_acc: 0.7380\n",
      "\n",
      "Epoch 00015: val_acc improved from 0.73139 to 0.73801, saving model to ./mel_nodelta_keras_scaled.hdf5\n",
      "Epoch 16/100\n",
      "30000/30000 [==============================] - 1s 50us/step - loss: 0.6871 - acc: 0.7914 - val_loss: 0.9044 - val_acc: 0.7377\n",
      "\n",
      "Epoch 00016: val_acc did not improve from 0.73801\n",
      "Epoch 17/100\n",
      "30000/30000 [==============================] - 1s 49us/step - loss: 0.6589 - acc: 0.8011 - val_loss: 0.8953 - val_acc: 0.7393\n",
      "\n",
      "Epoch 00017: val_acc improved from 0.73801 to 0.73934, saving model to ./mel_nodelta_keras_scaled.hdf5\n",
      "Epoch 18/100\n",
      "30000/30000 [==============================] - 1s 49us/step - loss: 0.6267 - acc: 0.8100 - val_loss: 0.8785 - val_acc: 0.7480\n",
      "\n",
      "Epoch 00018: val_acc improved from 0.73934 to 0.74801, saving model to ./mel_nodelta_keras_scaled.hdf5\n",
      "Epoch 19/100\n",
      "30000/30000 [==============================] - 2s 51us/step - loss: 0.5800 - acc: 0.8216 - val_loss: 0.8482 - val_acc: 0.7551\n",
      "\n",
      "Epoch 00019: val_acc improved from 0.74801 to 0.75508, saving model to ./mel_nodelta_keras_scaled.hdf5\n",
      "Epoch 20/100\n",
      "30000/30000 [==============================] - 2s 50us/step - loss: 0.5503 - acc: 0.8337 - val_loss: 0.8701 - val_acc: 0.7507\n",
      "\n",
      "Epoch 00020: val_acc did not improve from 0.75508\n",
      "Epoch 21/100\n",
      "30000/30000 [==============================] - 1s 50us/step - loss: 0.5278 - acc: 0.8421 - val_loss: 0.8454 - val_acc: 0.7568\n",
      "\n",
      "Epoch 00021: val_acc improved from 0.75508 to 0.75684, saving model to ./mel_nodelta_keras_scaled.hdf5\n",
      "Epoch 22/100\n",
      "30000/30000 [==============================] - 2s 50us/step - loss: 0.4969 - acc: 0.8496 - val_loss: 0.8483 - val_acc: 0.7549\n",
      "\n",
      "Epoch 00022: val_acc did not improve from 0.75684\n",
      "Epoch 23/100\n",
      "30000/30000 [==============================] - 2s 50us/step - loss: 0.4755 - acc: 0.8557 - val_loss: 0.8301 - val_acc: 0.7596\n",
      "\n",
      "Epoch 00023: val_acc improved from 0.75684 to 0.75964, saving model to ./mel_nodelta_keras_scaled.hdf5\n",
      "Epoch 24/100\n",
      "30000/30000 [==============================] - 2s 50us/step - loss: 0.4508 - acc: 0.8652 - val_loss: 0.8448 - val_acc: 0.7564\n",
      "\n",
      "Epoch 00024: val_acc did not improve from 0.75964\n"
     ]
    },
    {
     "data": {
      "text/plain": [
       "<keras.callbacks.History at 0x7f30aeafce80>"
      ]
     },
     "execution_count": 45,
     "metadata": {},
     "output_type": "execute_result"
    }
   ],
   "source": [
    "train_feats_scaled = preprocessing.scale(train_feats)\n",
    "valid_feats_scaled = preprocessing.scale(valid_feats)\n",
    "\n",
    "train_labels2 = keras.utils.to_categorical(train_labels, num_classes=30)\n",
    "valid_labels2 = keras.utils.to_categorical(valid_labels, num_classes=30)\n",
    "\n",
    "model = Sequential()\n",
    "model.add(Dense(2048, activation='relu', input_dim=train_feats_scaled.shape[1]))\n",
    "model.add(Dense(1024, activation='relu'))\n",
    "model.add(Dense(512, activation='relu'))\n",
    "model.add(Dropout(0.5))\n",
    "model.add(Dense(128, activation='linear'))\n",
    "model.add(Dense(64, activation='linear'))\n",
    "model.add(Dense(30, activation='softmax'))\n",
    "\n",
    "adam = Adam(lr=0.0001)\n",
    "model.compile(loss='categorical_crossentropy',\n",
    "              optimizer=adam,\n",
    "              metrics=['accuracy'])\n",
    "\n",
    "reduce = ReduceLROnPlateau(monitor='val_loss', factor=0.5, patience=10, mode='auto', verbose=1)\n",
    "early = EarlyStopping(monitor='val_loss', min_delta=0.1, patience=10, mode='auto')\n",
    "checkpointer = ModelCheckpoint(filepath='./mel_nodelta_keras_scaled.hdf5', monitor='val_acc',\n",
    "                               verbose=1, save_best_only=True)\n",
    "\n",
    "model.fit(train_feats_scaled, train_labels2,  validation_data=(valid_feats_scaled, valid_labels2), \n",
    "          epochs=100, batch_size=1024, callbacks=[checkpointer, early])"
   ]
  },
  {
   "cell_type": "code",
   "execution_count": 46,
   "metadata": {},
   "outputs": [
    {
     "name": "stdout",
     "output_type": "stream",
     "text": [
      "6798/6798 [==============================] - 1s 91us/step\n",
      "Validation accuracy: 0.7563989408824963\n"
     ]
    }
   ],
   "source": [
    "score, acc = model.evaluate(valid_feats_scaled, valid_labels2)\n",
    "print('Validation accuracy:', acc)"
   ]
  },
  {
   "cell_type": "markdown",
   "metadata": {},
   "source": [
    "## 2. With deltas"
   ]
  },
  {
   "cell_type": "code",
   "execution_count": 39,
   "metadata": {},
   "outputs": [
    {
     "name": "stdout",
     "output_type": "stream",
     "text": [
      "Time to output features: 381.68870282173157\n",
      "(30000, 7878)\n"
     ]
    }
   ],
   "source": [
    "framerate = 16000\n",
    "melfbanks = spectral.Spectral(nfilt=26,\n",
    "                    ncep=0,\n",
    "                    do_dct=False,\n",
    "                    lowerf=300, ####\n",
    "                    upperf=8000, ####\n",
    "                    alpha=0.97, #??\n",
    "                    fs=framerate,\n",
    "                    frate=100,  #??\n",
    "                    wlen=0.025,\n",
    "                    nfft=512,\n",
    "                    compression='log',\n",
    "                    do_deltas=True,\n",
    "                    do_deltasdeltas=True)\n",
    "\n",
    "# Choose the feature function\n",
    "feature_function = melfbanks\n",
    "\n",
    "start = time.time()\n",
    "train_feats = np.asarray(pad(transform_wavs(train_wavs, feature_function)))\n",
    "valid_feats = np.asarray(pad(transform_wavs(valid_wavs, feature_function)))\n",
    "test_feats = np.asarray(pad(transform_wavs(test_wavs, feature_function)))\n",
    "end = time.time()\n",
    "\n",
    "print(\"Time to output features: \" + str(end-start))\n",
    "print(train_feats.shape)"
   ]
  },
  {
   "cell_type": "markdown",
   "metadata": {},
   "source": [
    "### a) Logistic regression with SGD"
   ]
  },
  {
   "cell_type": "code",
   "execution_count": 9,
   "metadata": {},
   "outputs": [
    {
     "name": "stdout",
     "output_type": "stream",
     "text": [
      "Training time: 937.4954125881195\n",
      "Best alpha: 0.0001\n",
      "Accuracy on train set 30.583333333333336%\n",
      "Accuracy on valid set 25.59576345984113%\n"
     ]
    },
    {
     "data": {
      "text/plain": [
       "['mel_delta_logreg_sgd.joblib']"
      ]
     },
     "execution_count": 9,
     "metadata": {},
     "output_type": "execute_result"
    }
   ],
   "source": [
    "from sklearn.model_selection import GridSearchCV, cross_val_score\n",
    "\n",
    "logreg = sklearn.linear_model.SGDClassifier(loss='log', penalty='l1', n_jobs=4,\n",
    "                                            learning_rate='optimal', early_stopping=True, tol=1,\n",
    "                                            validation_fraction=0.3, n_iter_no_change=5)\n",
    "\n",
    "alphas = [0.01, 0.005, 0.001, 0.0005, 0.0001]\n",
    "\n",
    "clf = GridSearchCV(estimator=logreg, param_grid=dict(alpha=alphas),\n",
    "                   n_jobs=2, scoring='accuracy', cv=3)\n",
    "\n",
    "start = time.time()\n",
    "clf.fit(train_feats, train_labels)\n",
    "end = time.time()\n",
    "print(\"Training time: \" + str(end-start))\n",
    "print(\"Best alpha:\", clf.best_estimator_.alpha)\n",
    "print(\"Accuracy on train set \" + str(100*clf.score(train_feats, train_labels)) + \"%\")\n",
    "print(\"Accuracy on valid set \" + str(100*clf.score(valid_feats, valid_labels)) + \"%\")\n",
    "dump(clf, 'mel_delta_logreg_sgd.joblib') "
   ]
  },
  {
   "cell_type": "markdown",
   "metadata": {},
   "source": [
    "### b) Logistic regression with SGD and scaled features"
   ]
  },
  {
   "cell_type": "code",
   "execution_count": 10,
   "metadata": {},
   "outputs": [
    {
     "name": "stdout",
     "output_type": "stream",
     "text": [
      "Training time: 1072.4696192741394\n",
      "Best alpha: 0.0001\n",
      "Accuracy on train set 38.36666666666667%\n",
      "Accuracy on valid set 27.993527508090615%\n"
     ]
    },
    {
     "data": {
      "text/plain": [
       "['mel_delta_logreg_sgd_scaled.joblib']"
      ]
     },
     "execution_count": 10,
     "metadata": {},
     "output_type": "execute_result"
    }
   ],
   "source": [
    "from sklearn import preprocessing\n",
    "\n",
    "logreg_scaled = sklearn.linear_model.SGDClassifier(loss='log', penalty='l1', n_jobs=4,\n",
    "                                            learning_rate='optimal', early_stopping=True, tol=1,\n",
    "                                            validation_fraction=0.3, n_iter_no_change=5)\n",
    "\n",
    "alphas = [0.01, 0.005, 0.001, 0.0005, 0.0001]\n",
    "\n",
    "clf_scaled = GridSearchCV(estimator=logreg_scaled, param_grid=dict(alpha=alphas),\n",
    "                   n_jobs=2, scoring='accuracy', cv=3)\n",
    "\n",
    "train_feats_scaled = preprocessing.scale(train_feats)\n",
    "valid_feats_scaled = preprocessing.scale(valid_feats)\n",
    "\n",
    "start = time.time()\n",
    "clf_scaled.fit(train_feats_scaled, train_labels)\n",
    "end = time.time()\n",
    "print(\"Training time: \" + str(end-start))\n",
    "print(\"Best alpha:\", clf_scaled.best_estimator_.alpha)\n",
    "print(\"Accuracy on train set \" + str(100*clf_scaled.score(train_feats_scaled, train_labels)) + \"%\")\n",
    "print(\"Accuracy on valid set \" + str(100*clf_scaled.score(valid_feats_scaled, valid_labels)) + \"%\")\n",
    "dump(clf_scaled, 'mel_delta_logreg_sgd_scaled.joblib') "
   ]
  },
  {
   "cell_type": "markdown",
   "metadata": {},
   "source": [
    "### c) MLP"
   ]
  },
  {
   "cell_type": "code",
   "execution_count": 40,
   "metadata": {},
   "outputs": [
    {
     "name": "stdout",
     "output_type": "stream",
     "text": [
      "Train on 30000 samples, validate on 6798 samples\n",
      "Epoch 1/100\n",
      "30000/30000 [==============================] - 6s 208us/step - loss: 4.8442 - acc: 0.0565 - val_loss: 3.2002 - val_acc: 0.1169\n",
      "\n",
      "Epoch 00001: val_acc improved from -inf to 0.11695, saving model to ./mel_delta_keras.hdf5\n",
      "Epoch 2/100\n",
      "30000/30000 [==============================] - 4s 129us/step - loss: 3.1713 - acc: 0.1106 - val_loss: 2.9214 - val_acc: 0.2224\n",
      "\n",
      "Epoch 00002: val_acc improved from 0.11695 to 0.22242, saving model to ./mel_delta_keras.hdf5\n",
      "Epoch 3/100\n",
      "30000/30000 [==============================] - 4s 122us/step - loss: 2.9368 - acc: 0.1673 - val_loss: 2.6619 - val_acc: 0.2774\n",
      "\n",
      "Epoch 00003: val_acc improved from 0.22242 to 0.27743, saving model to ./mel_delta_keras.hdf5\n",
      "Epoch 4/100\n",
      "30000/30000 [==============================] - 4s 119us/step - loss: 2.7103 - acc: 0.2238 - val_loss: 2.4134 - val_acc: 0.3267\n",
      "\n",
      "Epoch 00004: val_acc improved from 0.27743 to 0.32671, saving model to ./mel_delta_keras.hdf5\n",
      "Epoch 5/100\n",
      "30000/30000 [==============================] - 4s 118us/step - loss: 2.5113 - acc: 0.2679 - val_loss: 2.1940 - val_acc: 0.3897\n",
      "\n",
      "Epoch 00005: val_acc improved from 0.32671 to 0.38967, saving model to ./mel_delta_keras.hdf5\n",
      "Epoch 6/100\n",
      "30000/30000 [==============================] - 4s 120us/step - loss: 2.3271 - acc: 0.3175 - val_loss: 2.0302 - val_acc: 0.4289\n",
      "\n",
      "Epoch 00006: val_acc improved from 0.38967 to 0.42895, saving model to ./mel_delta_keras.hdf5\n",
      "Epoch 7/100\n",
      "30000/30000 [==============================] - 4s 118us/step - loss: 2.1900 - acc: 0.3505 - val_loss: 1.8884 - val_acc: 0.4660\n",
      "\n",
      "Epoch 00007: val_acc improved from 0.42895 to 0.46602, saving model to ./mel_delta_keras.hdf5\n",
      "Epoch 8/100\n",
      "30000/30000 [==============================] - 4s 117us/step - loss: 2.0491 - acc: 0.3888 - val_loss: 1.7652 - val_acc: 0.4885\n",
      "\n",
      "Epoch 00008: val_acc improved from 0.46602 to 0.48853, saving model to ./mel_delta_keras.hdf5\n",
      "Epoch 9/100\n",
      "30000/30000 [==============================] - 4s 120us/step - loss: 1.9141 - acc: 0.4300 - val_loss: 1.6470 - val_acc: 0.5313\n",
      "\n",
      "Epoch 00009: val_acc improved from 0.48853 to 0.53133, saving model to ./mel_delta_keras.hdf5\n",
      "Epoch 10/100\n",
      "30000/30000 [==============================] - 4s 120us/step - loss: 1.8134 - acc: 0.4554 - val_loss: 1.5519 - val_acc: 0.5531\n",
      "\n",
      "Epoch 00010: val_acc improved from 0.53133 to 0.55310, saving model to ./mel_delta_keras.hdf5\n",
      "Epoch 11/100\n",
      "30000/30000 [==============================] - 4s 117us/step - loss: 1.6946 - acc: 0.4870 - val_loss: 1.4690 - val_acc: 0.5858\n",
      "\n",
      "Epoch 00011: val_acc improved from 0.55310 to 0.58576, saving model to ./mel_delta_keras.hdf5\n",
      "Epoch 12/100\n",
      "30000/30000 [==============================] - 4s 118us/step - loss: 1.5979 - acc: 0.5183 - val_loss: 1.3625 - val_acc: 0.6084\n",
      "\n",
      "Epoch 00012: val_acc improved from 0.58576 to 0.60841, saving model to ./mel_delta_keras.hdf5\n",
      "Epoch 13/100\n",
      "30000/30000 [==============================] - 4s 117us/step - loss: 1.5334 - acc: 0.5353 - val_loss: 1.3271 - val_acc: 0.6236\n",
      "\n",
      "Epoch 00013: val_acc improved from 0.60841 to 0.62357, saving model to ./mel_delta_keras.hdf5\n",
      "Epoch 14/100\n",
      "30000/30000 [==============================] - 3s 114us/step - loss: 1.4510 - acc: 0.5610 - val_loss: 1.2751 - val_acc: 0.6327\n",
      "\n",
      "Epoch 00014: val_acc improved from 0.62357 to 0.63269, saving model to ./mel_delta_keras.hdf5\n",
      "Epoch 15/100\n",
      "30000/30000 [==============================] - 3s 116us/step - loss: 1.3892 - acc: 0.5779 - val_loss: 1.2513 - val_acc: 0.6275\n",
      "\n",
      "Epoch 00015: val_acc did not improve from 0.63269\n",
      "Epoch 16/100\n",
      "30000/30000 [==============================] - 4s 120us/step - loss: 1.3272 - acc: 0.5981 - val_loss: 1.1925 - val_acc: 0.6521\n",
      "\n",
      "Epoch 00016: val_acc improved from 0.63269 to 0.65210, saving model to ./mel_delta_keras.hdf5\n",
      "Epoch 17/100\n",
      "30000/30000 [==============================] - 4s 118us/step - loss: 1.2882 - acc: 0.6071 - val_loss: 1.1681 - val_acc: 0.6598\n",
      "\n",
      "Epoch 00017: val_acc improved from 0.65210 to 0.65975, saving model to ./mel_delta_keras.hdf5\n",
      "Epoch 18/100\n",
      "30000/30000 [==============================] - 4s 119us/step - loss: 1.2506 - acc: 0.6170 - val_loss: 1.1966 - val_acc: 0.6472\n",
      "\n",
      "Epoch 00018: val_acc did not improve from 0.65975\n",
      "Epoch 19/100\n",
      "30000/30000 [==============================] - 4s 120us/step - loss: 1.1980 - acc: 0.6355 - val_loss: 1.0990 - val_acc: 0.6845\n",
      "\n",
      "Epoch 00019: val_acc improved from 0.65975 to 0.68447, saving model to ./mel_delta_keras.hdf5\n",
      "Epoch 20/100\n",
      "30000/30000 [==============================] - 4s 118us/step - loss: 1.1371 - acc: 0.6509 - val_loss: 1.0835 - val_acc: 0.6799\n",
      "\n",
      "Epoch 00020: val_acc did not improve from 0.68447\n",
      "Epoch 21/100\n",
      "30000/30000 [==============================] - 4s 120us/step - loss: 1.1043 - acc: 0.6626 - val_loss: 1.0870 - val_acc: 0.6790\n",
      "\n",
      "Epoch 00021: val_acc did not improve from 0.68447\n",
      "Epoch 22/100\n",
      "30000/30000 [==============================] - 4s 120us/step - loss: 1.0701 - acc: 0.6719 - val_loss: 1.0189 - val_acc: 0.7027\n",
      "\n",
      "Epoch 00022: val_acc improved from 0.68447 to 0.70271, saving model to ./mel_delta_keras.hdf5\n",
      "Epoch 23/100\n",
      "30000/30000 [==============================] - 4s 121us/step - loss: 1.0273 - acc: 0.6851 - val_loss: 1.0200 - val_acc: 0.6962\n",
      "\n",
      "Epoch 00023: val_acc did not improve from 0.70271\n",
      "Epoch 24/100\n",
      "30000/30000 [==============================] - 4s 120us/step - loss: 0.9987 - acc: 0.6947 - val_loss: 1.0127 - val_acc: 0.6973\n",
      "\n",
      "Epoch 00024: val_acc did not improve from 0.70271\n",
      "Epoch 25/100\n",
      "30000/30000 [==============================] - 4s 118us/step - loss: 0.9817 - acc: 0.6995 - val_loss: 0.9956 - val_acc: 0.7079\n",
      "\n",
      "Epoch 00025: val_acc improved from 0.70271 to 0.70786, saving model to ./mel_delta_keras.hdf5\n",
      "Epoch 26/100\n",
      "30000/30000 [==============================] - 4s 119us/step - loss: 0.9588 - acc: 0.7072 - val_loss: 1.0056 - val_acc: 0.7023\n",
      "\n",
      "Epoch 00026: val_acc did not improve from 0.70786\n",
      "Epoch 27/100\n",
      "30000/30000 [==============================] - 4s 120us/step - loss: 0.9428 - acc: 0.7095 - val_loss: 0.9693 - val_acc: 0.7117\n",
      "\n",
      "Epoch 00027: val_acc improved from 0.70786 to 0.71168, saving model to ./mel_delta_keras.hdf5\n",
      "Epoch 28/100\n",
      "30000/30000 [==============================] - 4s 123us/step - loss: 0.9030 - acc: 0.7188 - val_loss: 0.9524 - val_acc: 0.7152\n",
      "\n",
      "Epoch 00028: val_acc improved from 0.71168 to 0.71521, saving model to ./mel_delta_keras.hdf5\n",
      "Epoch 29/100\n",
      "30000/30000 [==============================] - 4s 121us/step - loss: 0.8795 - acc: 0.7266 - val_loss: 0.9585 - val_acc: 0.7165\n",
      "\n",
      "Epoch 00029: val_acc improved from 0.71521 to 0.71653, saving model to ./mel_delta_keras.hdf5\n",
      "Epoch 30/100\n",
      "30000/30000 [==============================] - 4s 119us/step - loss: 0.8847 - acc: 0.7231 - val_loss: 0.9571 - val_acc: 0.7177\n",
      "\n",
      "Epoch 00030: val_acc improved from 0.71653 to 0.71771, saving model to ./mel_delta_keras.hdf5\n",
      "Epoch 31/100\n",
      "30000/30000 [==============================] - 4s 121us/step - loss: 0.8244 - acc: 0.7448 - val_loss: 0.9312 - val_acc: 0.7218\n",
      "\n",
      "Epoch 00031: val_acc improved from 0.71771 to 0.72183, saving model to ./mel_delta_keras.hdf5\n",
      "Epoch 32/100\n",
      "30000/30000 [==============================] - 4s 120us/step - loss: 0.8010 - acc: 0.7530 - val_loss: 0.9166 - val_acc: 0.7226\n",
      "\n",
      "Epoch 00032: val_acc improved from 0.72183 to 0.72257, saving model to ./mel_delta_keras.hdf5\n",
      "Epoch 33/100\n",
      "30000/30000 [==============================] - 4s 121us/step - loss: 0.7979 - acc: 0.7520 - val_loss: 0.9151 - val_acc: 0.7295\n",
      "\n",
      "Epoch 00033: val_acc improved from 0.72257 to 0.72948, saving model to ./mel_delta_keras.hdf5\n",
      "Epoch 34/100\n",
      "30000/30000 [==============================] - 4s 121us/step - loss: 0.7738 - acc: 0.7589 - val_loss: 0.9170 - val_acc: 0.7310\n",
      "\n",
      "Epoch 00034: val_acc improved from 0.72948 to 0.73095, saving model to ./mel_delta_keras.hdf5\n",
      "Epoch 35/100\n",
      "30000/30000 [==============================] - 4s 117us/step - loss: 0.7596 - acc: 0.7612 - val_loss: 0.9068 - val_acc: 0.7329\n",
      "\n",
      "Epoch 00035: val_acc improved from 0.73095 to 0.73286, saving model to ./mel_delta_keras.hdf5\n"
     ]
    },
    {
     "data": {
      "text/plain": [
       "<keras.callbacks.History at 0x7f30af8c50b8>"
      ]
     },
     "execution_count": 40,
     "metadata": {},
     "output_type": "execute_result"
    }
   ],
   "source": [
    "train_labels2 = keras.utils.to_categorical(train_labels, num_classes=30)\n",
    "valid_labels2 = keras.utils.to_categorical(valid_labels, num_classes=30)\n",
    "\n",
    "model = Sequential()\n",
    "model.add(Dense(2048, activation='relu', input_dim=train_feats.shape[1]))\n",
    "model.add(Dense(1024, activation='relu'))\n",
    "model.add(Dense(512, activation='relu'))\n",
    "model.add(Dropout(0.5))\n",
    "model.add(Dense(128, activation='linear'))\n",
    "model.add(Dense(64, activation='linear'))\n",
    "model.add(Dense(30, activation='softmax'))\n",
    "\n",
    "adam = Adam(lr=0.0001)\n",
    "model.compile(loss='categorical_crossentropy',\n",
    "              optimizer=adam,\n",
    "              metrics=['accuracy'])\n",
    "\n",
    "reduce = ReduceLROnPlateau(monitor='val_loss', factor=0.5, patience=10, mode='auto', verbose=1)\n",
    "early = EarlyStopping(monitor='val_loss', min_delta=0.1, patience=10, mode='auto')\n",
    "checkpointer = ModelCheckpoint(filepath='./mel_delta_keras.hdf5', monitor='val_acc',\n",
    "                               verbose=1, save_best_only=True)\n",
    "\n",
    "model.fit(train_feats, train_labels2,  validation_data=(valid_feats, valid_labels2), \n",
    "          epochs=100, batch_size=1024, callbacks=[checkpointer, early])"
   ]
  },
  {
   "cell_type": "code",
   "execution_count": 41,
   "metadata": {},
   "outputs": [
    {
     "name": "stdout",
     "output_type": "stream",
     "text": [
      "6798/6798 [==============================] - 1s 139us/step\n",
      "Validation accuracy: 0.7328626066139425\n"
     ]
    }
   ],
   "source": [
    "score, acc = model.evaluate(valid_feats, valid_labels2)\n",
    "print('Validation accuracy:', acc)"
   ]
  },
  {
   "cell_type": "markdown",
   "metadata": {},
   "source": [
    "### d) MLP with scaled features"
   ]
  },
  {
   "cell_type": "code",
   "execution_count": 42,
   "metadata": {},
   "outputs": [
    {
     "name": "stdout",
     "output_type": "stream",
     "text": [
      "Train on 30000 samples, validate on 6798 samples\n",
      "Epoch 1/100\n",
      "30000/30000 [==============================] - 6s 205us/step - loss: 2.9313 - acc: 0.2117 - val_loss: 2.1277 - val_acc: 0.4216\n",
      "\n",
      "Epoch 00001: val_acc improved from -inf to 0.42159, saving model to ./mel_delta_keras_scaled.hdf5\n",
      "Epoch 2/100\n",
      "30000/30000 [==============================] - 4s 122us/step - loss: 2.0353 - acc: 0.4181 - val_loss: 1.6228 - val_acc: 0.5455\n",
      "\n",
      "Epoch 00002: val_acc improved from 0.42159 to 0.54545, saving model to ./mel_delta_keras_scaled.hdf5\n",
      "Epoch 3/100\n",
      "30000/30000 [==============================] - 4s 117us/step - loss: 1.5965 - acc: 0.5325 - val_loss: 1.3577 - val_acc: 0.6247\n",
      "\n",
      "Epoch 00003: val_acc improved from 0.54545 to 0.62474, saving model to ./mel_delta_keras_scaled.hdf5\n",
      "Epoch 4/100\n",
      "30000/30000 [==============================] - 4s 117us/step - loss: 1.3264 - acc: 0.6125 - val_loss: 1.2014 - val_acc: 0.6603\n",
      "\n",
      "Epoch 00004: val_acc improved from 0.62474 to 0.66034, saving model to ./mel_delta_keras_scaled.hdf5\n",
      "Epoch 5/100\n",
      "30000/30000 [==============================] - 4s 118us/step - loss: 1.1465 - acc: 0.6616 - val_loss: 1.1095 - val_acc: 0.6773\n",
      "\n",
      "Epoch 00005: val_acc improved from 0.66034 to 0.67726, saving model to ./mel_delta_keras_scaled.hdf5\n",
      "Epoch 6/100\n",
      "30000/30000 [==============================] - 4s 117us/step - loss: 1.0083 - acc: 0.6981 - val_loss: 1.0384 - val_acc: 0.7029\n",
      "\n",
      "Epoch 00006: val_acc improved from 0.67726 to 0.70285, saving model to ./mel_delta_keras_scaled.hdf5\n",
      "Epoch 7/100\n",
      "30000/30000 [==============================] - 3s 116us/step - loss: 0.9156 - acc: 0.7287 - val_loss: 0.9866 - val_acc: 0.7184\n",
      "\n",
      "Epoch 00007: val_acc improved from 0.70285 to 0.71845, saving model to ./mel_delta_keras_scaled.hdf5\n",
      "Epoch 8/100\n",
      "30000/30000 [==============================] - 3s 115us/step - loss: 0.8138 - acc: 0.7567 - val_loss: 0.9580 - val_acc: 0.7202\n",
      "\n",
      "Epoch 00008: val_acc improved from 0.71845 to 0.72021, saving model to ./mel_delta_keras_scaled.hdf5\n",
      "Epoch 9/100\n",
      "30000/30000 [==============================] - 3s 115us/step - loss: 0.7407 - acc: 0.7776 - val_loss: 0.9160 - val_acc: 0.7321\n",
      "\n",
      "Epoch 00009: val_acc improved from 0.72021 to 0.73213, saving model to ./mel_delta_keras_scaled.hdf5\n",
      "Epoch 10/100\n",
      "30000/30000 [==============================] - 4s 120us/step - loss: 0.6757 - acc: 0.7953 - val_loss: 0.8991 - val_acc: 0.7314\n",
      "\n",
      "Epoch 00010: val_acc did not improve from 0.73213\n",
      "Epoch 11/100\n",
      "30000/30000 [==============================] - 4s 119us/step - loss: 0.6106 - acc: 0.8154 - val_loss: 0.8871 - val_acc: 0.7383\n",
      "\n",
      "Epoch 00011: val_acc improved from 0.73213 to 0.73831, saving model to ./mel_delta_keras_scaled.hdf5\n",
      "Epoch 12/100\n",
      "30000/30000 [==============================] - 4s 119us/step - loss: 0.5633 - acc: 0.8296 - val_loss: 0.8703 - val_acc: 0.7457\n",
      "\n",
      "Epoch 00012: val_acc improved from 0.73831 to 0.74566, saving model to ./mel_delta_keras_scaled.hdf5\n",
      "Epoch 13/100\n",
      "30000/30000 [==============================] - 4s 117us/step - loss: 0.5172 - acc: 0.8420 - val_loss: 0.8633 - val_acc: 0.7452\n",
      "\n",
      "Epoch 00013: val_acc did not improve from 0.74566\n",
      "Epoch 14/100\n",
      "30000/30000 [==============================] - 4s 119us/step - loss: 0.4756 - acc: 0.8569 - val_loss: 0.8446 - val_acc: 0.7508\n",
      "\n",
      "Epoch 00014: val_acc improved from 0.74566 to 0.75081, saving model to ./mel_delta_keras_scaled.hdf5\n",
      "Epoch 15/100\n",
      "30000/30000 [==============================] - 4s 120us/step - loss: 0.4381 - acc: 0.8684 - val_loss: 0.8411 - val_acc: 0.7598\n",
      "\n",
      "Epoch 00015: val_acc improved from 0.75081 to 0.75978, saving model to ./mel_delta_keras_scaled.hdf5\n",
      "Epoch 16/100\n",
      "30000/30000 [==============================] - 4s 119us/step - loss: 0.4000 - acc: 0.8803 - val_loss: 0.8535 - val_acc: 0.7595\n",
      "\n",
      "Epoch 00016: val_acc did not improve from 0.75978\n",
      "Epoch 17/100\n",
      "30000/30000 [==============================] - 4s 123us/step - loss: 0.3773 - acc: 0.8861 - val_loss: 0.8453 - val_acc: 0.7582\n",
      "\n",
      "Epoch 00017: val_acc did not improve from 0.75978\n",
      "Epoch 18/100\n",
      "30000/30000 [==============================] - 4s 119us/step - loss: 0.3442 - acc: 0.8955 - val_loss: 0.8375 - val_acc: 0.7615\n",
      "\n",
      "Epoch 00018: val_acc improved from 0.75978 to 0.76155, saving model to ./mel_delta_keras_scaled.hdf5\n",
      "Epoch 19/100\n",
      "30000/30000 [==============================] - 4s 121us/step - loss: 0.3156 - acc: 0.9061 - val_loss: 0.8630 - val_acc: 0.7590\n",
      "\n",
      "Epoch 00019: val_acc did not improve from 0.76155\n"
     ]
    },
    {
     "data": {
      "text/plain": [
       "<keras.callbacks.History at 0x7f30af197dd8>"
      ]
     },
     "execution_count": 42,
     "metadata": {},
     "output_type": "execute_result"
    }
   ],
   "source": [
    "train_feats_scaled = preprocessing.scale(train_feats)\n",
    "valid_feats_scaled = preprocessing.scale(valid_feats)\n",
    "\n",
    "\n",
    "train_labels2 = keras.utils.to_categorical(train_labels, num_classes=30)\n",
    "valid_labels2 = keras.utils.to_categorical(valid_labels, num_classes=30)\n",
    "\n",
    "model = Sequential()\n",
    "model.add(Dense(2048, activation='relu', input_dim=train_feats_scaled.shape[1]))\n",
    "model.add(Dense(1024, activation='relu'))\n",
    "model.add(Dense(512, activation='relu'))\n",
    "model.add(Dropout(0.5))\n",
    "model.add(Dense(128, activation='linear'))\n",
    "model.add(Dense(64, activation='linear'))\n",
    "model.add(Dense(30, activation='softmax'))\n",
    "\n",
    "adam = Adam(lr=0.0001)\n",
    "model.compile(loss='categorical_crossentropy',\n",
    "              optimizer=adam,\n",
    "              metrics=['accuracy'])\n",
    "\n",
    "reduce = ReduceLROnPlateau(monitor='val_loss', factor=0.5, patience=10, mode='auto', verbose=1)\n",
    "early = EarlyStopping(monitor='val_loss', min_delta=0.1, patience=10, mode='auto')\n",
    "checkpointer = ModelCheckpoint(filepath='./mel_delta_keras_scaled.hdf5', monitor='val_acc',\n",
    "                               verbose=1, save_best_only=True)\n",
    "\n",
    "model.fit(train_feats_scaled, train_labels2,  validation_data=(valid_feats_scaled, valid_labels2), \n",
    "          epochs=100, batch_size=1024, callbacks=[checkpointer, early])"
   ]
  },
  {
   "cell_type": "code",
   "execution_count": 43,
   "metadata": {},
   "outputs": [
    {
     "name": "stdout",
     "output_type": "stream",
     "text": [
      "6798/6798 [==============================] - 1s 141us/step\n",
      "Validation accuracy: 0.7590467784291823\n"
     ]
    }
   ],
   "source": [
    "score, acc = model.evaluate(valid_feats_scaled, valid_labels2)\n",
    "print('Validation accuracy:', acc)"
   ]
  },
  {
   "cell_type": "markdown",
   "metadata": {},
   "source": [
    "***\n",
    "\n",
    "# II. MFCC"
   ]
  },
  {
   "cell_type": "markdown",
   "metadata": {},
   "source": [
    "## 1. Without deltas"
   ]
  },
  {
   "cell_type": "code",
   "execution_count": 47,
   "metadata": {},
   "outputs": [
    {
     "name": "stdout",
     "output_type": "stream",
     "text": [
      "Time to output features: 385.4943368434906\n",
      "(30000, 1313)\n"
     ]
    }
   ],
   "source": [
    "framerate = 16000\n",
    "mfcc = spectral.Spectral(nfilt=26,\n",
    "                    ncep=13,\n",
    "                    do_dct=True,\n",
    "                    lowerf=300,\n",
    "                    upperf=8000,\n",
    "                    alpha=0.97,\n",
    "                    fs=framerate,\n",
    "                    frate=100,\n",
    "                    wlen=0.025,\n",
    "                    nfft=512,\n",
    "                    compression='log',\n",
    "                    do_deltas=False,\n",
    "                    do_deltasdeltas=False)\n",
    "# Choose the feature function\n",
    "feature_function = mfcc\n",
    "\n",
    "start = time.time()\n",
    "train_feats = np.asarray(pad(transform_wavs(train_wavs, feature_function)))\n",
    "valid_feats = np.asarray(pad(transform_wavs(valid_wavs, feature_function)))\n",
    "test_feats = np.asarray(pad(transform_wavs(test_wavs, feature_function)))\n",
    "end = time.time()\n",
    "\n",
    "print(\"Time to output features: \" + str(end-start))\n",
    "print(train_feats.shape)"
   ]
  },
  {
   "cell_type": "markdown",
   "metadata": {},
   "source": [
    "### a) Logistic regression with SGD"
   ]
  },
  {
   "cell_type": "code",
   "execution_count": 12,
   "metadata": {},
   "outputs": [
    {
     "name": "stdout",
     "output_type": "stream",
     "text": [
      "Training time: 214.03309178352356\n",
      "Best alpha: 0.0005\n",
      "Accuracy on train set 26.3%\n",
      "Accuracy on valid set 24.845542806707854%\n"
     ]
    },
    {
     "data": {
      "text/plain": [
       "['mfcc_nodelta_logreg_sgd.joblib']"
      ]
     },
     "execution_count": 12,
     "metadata": {},
     "output_type": "execute_result"
    }
   ],
   "source": [
    "from sklearn.model_selection import GridSearchCV\n",
    "\n",
    "logreg = sklearn.linear_model.SGDClassifier(loss='log', penalty='l1', n_jobs=4,\n",
    "                                            learning_rate='optimal', early_stopping=True, tol=1,\n",
    "                                            validation_fraction=0.3, n_iter_no_change=5)\n",
    "\n",
    "alphas = [0.01, 0.005, 0.001, 0.0005, 0.0001]\n",
    "clf = GridSearchCV(estimator=logreg, param_grid=dict(alpha=alphas),\n",
    "                   n_jobs=4, scoring='accuracy', cv=3)\n",
    "\n",
    "start = time.time()\n",
    "clf.fit(train_feats, train_labels)\n",
    "end = time.time()\n",
    "print(\"Training time: \" + str(end-start))\n",
    "print(\"Best alpha:\", clf.best_estimator_.alpha)\n",
    "print(\"Accuracy on train set \" + str(100*clf.score(train_feats, train_labels)) + \"%\")\n",
    "print(\"Accuracy on valid set \" + str(100*clf.score(valid_feats, valid_labels)) + \"%\")\n",
    "dump(clf, 'mfcc_nodelta_logreg_sgd.joblib') "
   ]
  },
  {
   "cell_type": "markdown",
   "metadata": {},
   "source": [
    "### b) Logistic regression with SGD and scaled features"
   ]
  },
  {
   "cell_type": "code",
   "execution_count": 13,
   "metadata": {},
   "outputs": [
    {
     "name": "stdout",
     "output_type": "stream",
     "text": [
      "Training time: 217.58822870254517\n",
      "Best alpha: 0.0001\n",
      "Accuracy on train set 37.5%\n",
      "Accuracy on valid set 28.390703147984702%\n"
     ]
    },
    {
     "data": {
      "text/plain": [
       "['mfcc_nodelta_logreg_sgd_scaled.joblib']"
      ]
     },
     "execution_count": 13,
     "metadata": {},
     "output_type": "execute_result"
    }
   ],
   "source": [
    "from sklearn import preprocessing\n",
    "\n",
    "logreg_scaled = sklearn.linear_model.SGDClassifier(loss='log', penalty='l1', n_jobs=4,\n",
    "                                            learning_rate='optimal', early_stopping=True, tol=1,\n",
    "                                            validation_fraction=0.3, n_iter_no_change=5)\n",
    "\n",
    "alphas = [0.01, 0.005, 0.001, 0.0005, 0.0001]\n",
    "clf_scaled = GridSearchCV(estimator=logreg_scaled, param_grid=dict(alpha=alphas),\n",
    "                   n_jobs=4, scoring='accuracy', cv=3)\n",
    "\n",
    "train_feats_scaled = preprocessing.scale(train_feats)\n",
    "valid_feats_scaled = preprocessing.scale(valid_feats)\n",
    "\n",
    "start = time.time()\n",
    "clf_scaled.fit(train_feats_scaled, train_labels)\n",
    "end = time.time()\n",
    "print(\"Training time: \" + str(end-start))\n",
    "print(\"Best alpha:\", clf_scaled.best_estimator_.alpha)\n",
    "print(\"Accuracy on train set \" + str(100*clf_scaled.score(train_feats_scaled, train_labels)) + \"%\")\n",
    "print(\"Accuracy on valid set \" + str(100*clf_scaled.score(valid_feats_scaled, valid_labels)) + \"%\")\n",
    "dump(clf_scaled, 'mfcc_nodelta_logreg_sgd_scaled.joblib') "
   ]
  },
  {
   "cell_type": "markdown",
   "metadata": {},
   "source": [
    "### c) MLP"
   ]
  },
  {
   "cell_type": "code",
   "execution_count": 48,
   "metadata": {},
   "outputs": [
    {
     "name": "stdout",
     "output_type": "stream",
     "text": [
      "Train on 30000 samples, validate on 6798 samples\n",
      "Epoch 1/100\n",
      "30000/30000 [==============================] - 4s 121us/step - loss: 3.9268 - acc: 0.0511 - val_loss: 3.2512 - val_acc: 0.1161\n",
      "\n",
      "Epoch 00001: val_acc improved from -inf to 0.11606, saving model to ./mfcc_nodelta_keras.hdf5\n",
      "Epoch 2/100\n",
      "30000/30000 [==============================] - 1s 32us/step - loss: 3.1923 - acc: 0.1096 - val_loss: 2.9918 - val_acc: 0.1940\n",
      "\n",
      "Epoch 00002: val_acc improved from 0.11606 to 0.19403, saving model to ./mfcc_nodelta_keras.hdf5\n",
      "Epoch 3/100\n",
      "30000/30000 [==============================] - 1s 31us/step - loss: 2.9450 - acc: 0.1726 - val_loss: 2.6939 - val_acc: 0.2757\n",
      "\n",
      "Epoch 00003: val_acc improved from 0.19403 to 0.27567, saving model to ./mfcc_nodelta_keras.hdf5\n",
      "Epoch 4/100\n",
      "30000/30000 [==============================] - 1s 32us/step - loss: 2.6745 - acc: 0.2407 - val_loss: 2.4073 - val_acc: 0.3651\n",
      "\n",
      "Epoch 00004: val_acc improved from 0.27567 to 0.36511, saving model to ./mfcc_nodelta_keras.hdf5\n",
      "Epoch 5/100\n",
      "30000/30000 [==============================] - 1s 32us/step - loss: 2.4079 - acc: 0.3075 - val_loss: 2.1263 - val_acc: 0.4348\n",
      "\n",
      "Epoch 00005: val_acc improved from 0.36511 to 0.43483, saving model to ./mfcc_nodelta_keras.hdf5\n",
      "Epoch 6/100\n",
      "30000/30000 [==============================] - 1s 32us/step - loss: 2.1755 - acc: 0.3695 - val_loss: 1.9106 - val_acc: 0.4878\n",
      "\n",
      "Epoch 00006: val_acc improved from 0.43483 to 0.48779, saving model to ./mfcc_nodelta_keras.hdf5\n",
      "Epoch 7/100\n",
      "30000/30000 [==============================] - 1s 32us/step - loss: 1.9707 - acc: 0.4267 - val_loss: 1.7135 - val_acc: 0.5394\n",
      "\n",
      "Epoch 00007: val_acc improved from 0.48779 to 0.53942, saving model to ./mfcc_nodelta_keras.hdf5\n",
      "Epoch 8/100\n",
      "30000/30000 [==============================] - 1s 32us/step - loss: 1.7822 - acc: 0.4762 - val_loss: 1.5835 - val_acc: 0.5652\n",
      "\n",
      "Epoch 00008: val_acc improved from 0.53942 to 0.56517, saving model to ./mfcc_nodelta_keras.hdf5\n",
      "Epoch 9/100\n",
      "30000/30000 [==============================] - 1s 32us/step - loss: 1.6399 - acc: 0.5167 - val_loss: 1.4718 - val_acc: 0.5943\n",
      "\n",
      "Epoch 00009: val_acc improved from 0.56517 to 0.59429, saving model to ./mfcc_nodelta_keras.hdf5\n",
      "Epoch 10/100\n",
      "30000/30000 [==============================] - 1s 31us/step - loss: 1.5162 - acc: 0.5525 - val_loss: 1.3721 - val_acc: 0.6193\n",
      "\n",
      "Epoch 00010: val_acc improved from 0.59429 to 0.61930, saving model to ./mfcc_nodelta_keras.hdf5\n",
      "Epoch 11/100\n",
      "30000/30000 [==============================] - 1s 32us/step - loss: 1.4072 - acc: 0.5789 - val_loss: 1.2876 - val_acc: 0.6405\n",
      "\n",
      "Epoch 00011: val_acc improved from 0.61930 to 0.64048, saving model to ./mfcc_nodelta_keras.hdf5\n",
      "Epoch 12/100\n",
      "30000/30000 [==============================] - 1s 32us/step - loss: 1.3189 - acc: 0.6092 - val_loss: 1.2246 - val_acc: 0.6524\n",
      "\n",
      "Epoch 00012: val_acc improved from 0.64048 to 0.65240, saving model to ./mfcc_nodelta_keras.hdf5\n",
      "Epoch 13/100\n",
      "30000/30000 [==============================] - 1s 32us/step - loss: 1.2285 - acc: 0.6349 - val_loss: 1.1692 - val_acc: 0.6699\n",
      "\n",
      "Epoch 00013: val_acc improved from 0.65240 to 0.66990, saving model to ./mfcc_nodelta_keras.hdf5\n",
      "Epoch 14/100\n",
      "30000/30000 [==============================] - 1s 31us/step - loss: 1.1631 - acc: 0.6563 - val_loss: 1.1257 - val_acc: 0.6761\n",
      "\n",
      "Epoch 00014: val_acc improved from 0.66990 to 0.67608, saving model to ./mfcc_nodelta_keras.hdf5\n",
      "Epoch 15/100\n",
      "30000/30000 [==============================] - 1s 31us/step - loss: 1.0917 - acc: 0.6732 - val_loss: 1.0809 - val_acc: 0.6912\n",
      "\n",
      "Epoch 00015: val_acc improved from 0.67608 to 0.69123, saving model to ./mfcc_nodelta_keras.hdf5\n",
      "Epoch 16/100\n",
      "30000/30000 [==============================] - 1s 32us/step - loss: 1.0437 - acc: 0.6857 - val_loss: 1.0532 - val_acc: 0.6940\n",
      "\n",
      "Epoch 00016: val_acc improved from 0.69123 to 0.69403, saving model to ./mfcc_nodelta_keras.hdf5\n",
      "Epoch 17/100\n",
      "30000/30000 [==============================] - 1s 31us/step - loss: 0.9957 - acc: 0.7005 - val_loss: 1.0241 - val_acc: 0.7009\n",
      "\n",
      "Epoch 00017: val_acc improved from 0.69403 to 0.70094, saving model to ./mfcc_nodelta_keras.hdf5\n",
      "Epoch 18/100\n",
      "30000/30000 [==============================] - 1s 32us/step - loss: 0.9332 - acc: 0.7206 - val_loss: 0.9864 - val_acc: 0.7108\n",
      "\n",
      "Epoch 00018: val_acc improved from 0.70094 to 0.71080, saving model to ./mfcc_nodelta_keras.hdf5\n",
      "Epoch 19/100\n",
      "30000/30000 [==============================] - 1s 31us/step - loss: 0.8948 - acc: 0.7308 - val_loss: 0.9577 - val_acc: 0.7165\n",
      "\n",
      "Epoch 00019: val_acc improved from 0.71080 to 0.71653, saving model to ./mfcc_nodelta_keras.hdf5\n",
      "Epoch 20/100\n",
      "30000/30000 [==============================] - 1s 32us/step - loss: 0.8565 - acc: 0.7404 - val_loss: 0.9463 - val_acc: 0.7209\n",
      "\n",
      "Epoch 00020: val_acc improved from 0.71653 to 0.72095, saving model to ./mfcc_nodelta_keras.hdf5\n",
      "Epoch 21/100\n",
      "30000/30000 [==============================] - 1s 32us/step - loss: 0.8160 - acc: 0.7533 - val_loss: 0.9502 - val_acc: 0.7193\n",
      "\n",
      "Epoch 00021: val_acc did not improve from 0.72095\n",
      "Epoch 22/100\n",
      "30000/30000 [==============================] - 1s 31us/step - loss: 0.7904 - acc: 0.7614 - val_loss: 0.8966 - val_acc: 0.7370\n",
      "\n",
      "Epoch 00022: val_acc improved from 0.72095 to 0.73698, saving model to ./mfcc_nodelta_keras.hdf5\n",
      "Epoch 23/100\n",
      "30000/30000 [==============================] - 1s 32us/step - loss: 0.7464 - acc: 0.7710 - val_loss: 0.8916 - val_acc: 0.7392\n",
      "\n",
      "Epoch 00023: val_acc improved from 0.73698 to 0.73919, saving model to ./mfcc_nodelta_keras.hdf5\n",
      "Epoch 24/100\n",
      "30000/30000 [==============================] - 1s 32us/step - loss: 0.7181 - acc: 0.7796 - val_loss: 0.8824 - val_acc: 0.7374\n",
      "\n",
      "Epoch 00024: val_acc did not improve from 0.73919\n",
      "Epoch 25/100\n",
      "30000/30000 [==============================] - 1s 32us/step - loss: 0.6884 - acc: 0.7891 - val_loss: 0.8790 - val_acc: 0.7399\n",
      "\n",
      "Epoch 00025: val_acc improved from 0.73919 to 0.73992, saving model to ./mfcc_nodelta_keras.hdf5\n",
      "Epoch 26/100\n",
      "30000/30000 [==============================] - 1s 32us/step - loss: 0.6581 - acc: 0.8018 - val_loss: 0.8664 - val_acc: 0.7429\n",
      "\n",
      "Epoch 00026: val_acc improved from 0.73992 to 0.74287, saving model to ./mfcc_nodelta_keras.hdf5\n",
      "Epoch 27/100\n",
      "30000/30000 [==============================] - 1s 32us/step - loss: 0.6335 - acc: 0.8067 - val_loss: 0.8532 - val_acc: 0.7507\n",
      "\n",
      "Epoch 00027: val_acc improved from 0.74287 to 0.75066, saving model to ./mfcc_nodelta_keras.hdf5\n",
      "Epoch 28/100\n",
      "30000/30000 [==============================] - 1s 32us/step - loss: 0.6089 - acc: 0.8142 - val_loss: 0.8479 - val_acc: 0.7508\n",
      "\n",
      "Epoch 00028: val_acc improved from 0.75066 to 0.75081, saving model to ./mfcc_nodelta_keras.hdf5\n",
      "Epoch 29/100\n",
      "30000/30000 [==============================] - 1s 32us/step - loss: 0.5918 - acc: 0.8177 - val_loss: 0.8573 - val_acc: 0.7460\n",
      "\n",
      "Epoch 00029: val_acc did not improve from 0.75081\n",
      "Epoch 30/100\n",
      "30000/30000 [==============================] - 1s 32us/step - loss: 0.5717 - acc: 0.8254 - val_loss: 0.8548 - val_acc: 0.7504\n",
      "\n",
      "Epoch 00030: val_acc did not improve from 0.75081\n",
      "6798/6798 [==============================] - 1s 79us/step\n",
      "Validation accuracy: 0.7503677551870522\n"
     ]
    }
   ],
   "source": [
    "train_labels2 = keras.utils.to_categorical(train_labels, num_classes=30)\n",
    "valid_labels2 = keras.utils.to_categorical(valid_labels, num_classes=30)\n",
    "\n",
    "model = Sequential()\n",
    "model.add(Dense(2048, activation='relu', input_dim=train_feats.shape[1]))\n",
    "model.add(Dense(1024, activation='relu'))\n",
    "model.add(Dense(512, activation='relu'))\n",
    "model.add(Dropout(0.5))\n",
    "model.add(Dense(128, activation='linear'))\n",
    "model.add(Dense(64, activation='linear'))\n",
    "model.add(Dense(30, activation='softmax'))\n",
    "\n",
    "adam = Adam(lr=0.0001)\n",
    "model.compile(loss='categorical_crossentropy',\n",
    "              optimizer=adam,\n",
    "              metrics=['accuracy'])\n",
    "\n",
    "reduce = ReduceLROnPlateau(monitor='val_loss', factor=0.5, patience=10, mode='auto', verbose=1)\n",
    "early = EarlyStopping(monitor='val_loss', min_delta=0.1, patience=10, mode='auto')\n",
    "checkpointer = ModelCheckpoint(filepath='./mfcc_nodelta_keras.hdf5', monitor='val_acc',\n",
    "                               verbose=1, save_best_only=True)\n",
    "\n",
    "model.fit(train_feats, train_labels2,  validation_data=(valid_feats, valid_labels2), \n",
    "          epochs=100, batch_size=1024, callbacks=[checkpointer, early])\n",
    "\n",
    "\n",
    "score, acc = model.evaluate(valid_feats, valid_labels2)\n",
    "print('Validation accuracy:', acc)"
   ]
  },
  {
   "cell_type": "markdown",
   "metadata": {},
   "source": [
    "### d) MLP with scaled features"
   ]
  },
  {
   "cell_type": "code",
   "execution_count": 49,
   "metadata": {},
   "outputs": [
    {
     "name": "stdout",
     "output_type": "stream",
     "text": [
      "Train on 30000 samples, validate on 6798 samples\n",
      "Epoch 1/100\n",
      "30000/30000 [==============================] - 3s 117us/step - loss: 3.2009 - acc: 0.1207 - val_loss: 2.6769 - val_acc: 0.2749\n",
      "\n",
      "Epoch 00001: val_acc improved from -inf to 0.27493, saving model to ./mfcc_nodelta_keras_scaled.hdf5\n",
      "Epoch 2/100\n",
      "30000/30000 [==============================] - 1s 32us/step - loss: 2.5157 - acc: 0.2847 - val_loss: 2.1722 - val_acc: 0.4011\n",
      "\n",
      "Epoch 00002: val_acc improved from 0.27493 to 0.40115, saving model to ./mfcc_nodelta_keras_scaled.hdf5\n",
      "Epoch 3/100\n",
      "30000/30000 [==============================] - 1s 32us/step - loss: 2.0903 - acc: 0.3971 - val_loss: 1.8703 - val_acc: 0.4754\n",
      "\n",
      "Epoch 00003: val_acc improved from 0.40115 to 0.47543, saving model to ./mfcc_nodelta_keras_scaled.hdf5\n",
      "Epoch 4/100\n",
      "30000/30000 [==============================] - 1s 32us/step - loss: 1.7640 - acc: 0.4902 - val_loss: 1.6403 - val_acc: 0.5397\n",
      "\n",
      "Epoch 00004: val_acc improved from 0.47543 to 0.53972, saving model to ./mfcc_nodelta_keras_scaled.hdf5\n",
      "Epoch 5/100\n",
      "30000/30000 [==============================] - 1s 31us/step - loss: 1.5274 - acc: 0.5585 - val_loss: 1.4692 - val_acc: 0.5875\n",
      "\n",
      "Epoch 00005: val_acc improved from 0.53972 to 0.58753, saving model to ./mfcc_nodelta_keras_scaled.hdf5\n",
      "Epoch 6/100\n",
      "30000/30000 [==============================] - 1s 32us/step - loss: 1.3235 - acc: 0.6128 - val_loss: 1.3612 - val_acc: 0.6086\n",
      "\n",
      "Epoch 00006: val_acc improved from 0.58753 to 0.60856, saving model to ./mfcc_nodelta_keras_scaled.hdf5\n",
      "Epoch 7/100\n",
      "30000/30000 [==============================] - 1s 31us/step - loss: 1.1604 - acc: 0.6602 - val_loss: 1.2657 - val_acc: 0.6330\n",
      "\n",
      "Epoch 00007: val_acc improved from 0.60856 to 0.63298, saving model to ./mfcc_nodelta_keras_scaled.hdf5\n",
      "Epoch 8/100\n",
      "30000/30000 [==============================] - 1s 32us/step - loss: 1.0300 - acc: 0.6994 - val_loss: 1.2010 - val_acc: 0.6496\n",
      "\n",
      "Epoch 00008: val_acc improved from 0.63298 to 0.64960, saving model to ./mfcc_nodelta_keras_scaled.hdf5\n",
      "Epoch 9/100\n",
      "30000/30000 [==============================] - 1s 31us/step - loss: 0.9166 - acc: 0.7304 - val_loss: 1.1608 - val_acc: 0.6611\n",
      "\n",
      "Epoch 00009: val_acc improved from 0.64960 to 0.66108, saving model to ./mfcc_nodelta_keras_scaled.hdf5\n",
      "Epoch 10/100\n",
      "30000/30000 [==============================] - 1s 31us/step - loss: 0.8133 - acc: 0.7584 - val_loss: 1.1059 - val_acc: 0.6774\n",
      "\n",
      "Epoch 00010: val_acc improved from 0.66108 to 0.67741, saving model to ./mfcc_nodelta_keras_scaled.hdf5\n",
      "Epoch 11/100\n",
      "30000/30000 [==============================] - 1s 32us/step - loss: 0.7245 - acc: 0.7882 - val_loss: 1.0795 - val_acc: 0.6884\n",
      "\n",
      "Epoch 00011: val_acc improved from 0.67741 to 0.68844, saving model to ./mfcc_nodelta_keras_scaled.hdf5\n",
      "Epoch 12/100\n",
      "30000/30000 [==============================] - 1s 32us/step - loss: 0.6482 - acc: 0.8110 - val_loss: 1.0651 - val_acc: 0.6917\n",
      "\n",
      "Epoch 00012: val_acc improved from 0.68844 to 0.69167, saving model to ./mfcc_nodelta_keras_scaled.hdf5\n",
      "Epoch 13/100\n",
      "30000/30000 [==============================] - 1s 32us/step - loss: 0.5778 - acc: 0.8314 - val_loss: 1.0369 - val_acc: 0.6968\n",
      "\n",
      "Epoch 00013: val_acc improved from 0.69167 to 0.69682, saving model to ./mfcc_nodelta_keras_scaled.hdf5\n",
      "Epoch 14/100\n",
      "30000/30000 [==============================] - 1s 32us/step - loss: 0.5180 - acc: 0.8478 - val_loss: 1.0304 - val_acc: 0.7074\n",
      "\n",
      "Epoch 00014: val_acc improved from 0.69682 to 0.70741, saving model to ./mfcc_nodelta_keras_scaled.hdf5\n",
      "Epoch 15/100\n",
      "30000/30000 [==============================] - 1s 32us/step - loss: 0.4615 - acc: 0.8686 - val_loss: 1.0231 - val_acc: 0.7111\n",
      "\n",
      "Epoch 00015: val_acc improved from 0.70741 to 0.71109, saving model to ./mfcc_nodelta_keras_scaled.hdf5\n",
      "Epoch 16/100\n",
      "30000/30000 [==============================] - 1s 32us/step - loss: 0.4083 - acc: 0.8825 - val_loss: 1.0274 - val_acc: 0.7087\n",
      "\n",
      "Epoch 00016: val_acc did not improve from 0.71109\n",
      "Epoch 17/100\n",
      "30000/30000 [==============================] - 1s 32us/step - loss: 0.3695 - acc: 0.8938 - val_loss: 1.0262 - val_acc: 0.7086\n",
      "\n",
      "Epoch 00017: val_acc did not improve from 0.71109\n",
      "Epoch 18/100\n",
      "30000/30000 [==============================] - 1s 32us/step - loss: 0.3224 - acc: 0.9094 - val_loss: 1.0258 - val_acc: 0.7137\n",
      "\n",
      "Epoch 00018: val_acc improved from 0.71109 to 0.71374, saving model to ./mfcc_nodelta_keras_scaled.hdf5\n",
      "Epoch 19/100\n",
      "30000/30000 [==============================] - 1s 32us/step - loss: 0.2861 - acc: 0.9220 - val_loss: 1.0168 - val_acc: 0.7211\n",
      "\n",
      "Epoch 00019: val_acc improved from 0.71374 to 0.72109, saving model to ./mfcc_nodelta_keras_scaled.hdf5\n",
      "Epoch 20/100\n",
      "30000/30000 [==============================] - 1s 32us/step - loss: 0.2563 - acc: 0.9307 - val_loss: 1.0276 - val_acc: 0.7182\n",
      "\n",
      "Epoch 00020: val_acc did not improve from 0.72109\n",
      "Epoch 21/100\n",
      "30000/30000 [==============================] - 1s 31us/step - loss: 0.2237 - acc: 0.9403 - val_loss: 1.0500 - val_acc: 0.7217\n",
      "\n",
      "Epoch 00021: val_acc improved from 0.72109 to 0.72168, saving model to ./mfcc_nodelta_keras_scaled.hdf5\n",
      "6798/6798 [==============================] - 1s 80us/step\n",
      "Validation accuracy: 0.721682847931512\n"
     ]
    }
   ],
   "source": [
    "train_feats_scaled = preprocessing.scale(train_feats)\n",
    "valid_feats_scaled = preprocessing.scale(valid_feats)\n",
    "\n",
    "train_labels2 = keras.utils.to_categorical(train_labels, num_classes=30)\n",
    "valid_labels2 = keras.utils.to_categorical(valid_labels, num_classes=30)\n",
    "\n",
    "model = Sequential()\n",
    "model.add(Dense(2048, activation='relu', input_dim=train_feats_scaled.shape[1]))\n",
    "model.add(Dense(1024, activation='relu'))\n",
    "model.add(Dense(512, activation='relu'))\n",
    "model.add(Dropout(0.5))\n",
    "model.add(Dense(128, activation='linear'))\n",
    "model.add(Dense(64, activation='linear'))\n",
    "model.add(Dense(30, activation='softmax'))\n",
    "\n",
    "adam = Adam(lr=0.0001)\n",
    "model.compile(loss='categorical_crossentropy',\n",
    "              optimizer=adam,\n",
    "              metrics=['accuracy'])\n",
    "\n",
    "reduce = ReduceLROnPlateau(monitor='val_loss', factor=0.5, patience=10, mode='auto', verbose=1)\n",
    "early = EarlyStopping(monitor='val_loss', min_delta=0.1, patience=10, mode='auto')\n",
    "checkpointer = ModelCheckpoint(filepath='./mfcc_nodelta_keras_scaled.hdf5', monitor='val_acc',\n",
    "                               verbose=1, save_best_only=True)\n",
    "\n",
    "model.fit(train_feats_scaled, train_labels2,  validation_data=(valid_feats_scaled, valid_labels2), \n",
    "          epochs=100, batch_size=1024, callbacks=[checkpointer, early])\n",
    "\n",
    "\n",
    "score, acc = model.evaluate(valid_feats_scaled, valid_labels2)\n",
    "print('Validation accuracy:', acc)"
   ]
  },
  {
   "cell_type": "markdown",
   "metadata": {},
   "source": [
    "## 2. With deltas"
   ]
  },
  {
   "cell_type": "code",
   "execution_count": 50,
   "metadata": {},
   "outputs": [
    {
     "name": "stdout",
     "output_type": "stream",
     "text": [
      "Time to output features: 423.2389249801636\n",
      "(30000, 3939)\n"
     ]
    }
   ],
   "source": [
    "framerate = 16000\n",
    "mfcc = spectral.Spectral(nfilt=26,\n",
    "                    ncep=13,\n",
    "                    do_dct=True,\n",
    "                    lowerf=300,\n",
    "                    upperf=8000,\n",
    "                    alpha=0.97,\n",
    "                    fs=framerate,\n",
    "                    frate=100,\n",
    "                    wlen=0.025,\n",
    "                    nfft=512,\n",
    "                    compression='log',\n",
    "                    do_deltas=True,\n",
    "                    do_deltasdeltas=True)\n",
    "# Choose the feature function\n",
    "feature_function = mfcc\n",
    "\n",
    "start = time.time()\n",
    "train_feats = np.asarray(pad(transform_wavs(train_wavs, feature_function)))\n",
    "valid_feats = np.asarray(pad(transform_wavs(valid_wavs, feature_function)))\n",
    "test_feats = np.asarray(pad(transform_wavs(test_wavs, feature_function)))\n",
    "end = time.time()\n",
    "\n",
    "print(\"Time to output features: \" + str(end-start))\n",
    "print(train_feats.shape)"
   ]
  },
  {
   "cell_type": "markdown",
   "metadata": {},
   "source": [
    "### a) Logistic regression with SGD"
   ]
  },
  {
   "cell_type": "code",
   "execution_count": 15,
   "metadata": {},
   "outputs": [
    {
     "name": "stdout",
     "output_type": "stream",
     "text": [
      "Training time: 554.0569298267365\n",
      "Best alpha: 0.0001\n",
      "Accuracy on train set 28.12%\n",
      "Accuracy on valid set 25.757575757575758%\n"
     ]
    },
    {
     "data": {
      "text/plain": [
       "['mfcc_delta_logreg_sgd.joblib']"
      ]
     },
     "execution_count": 15,
     "metadata": {},
     "output_type": "execute_result"
    }
   ],
   "source": [
    "from sklearn.model_selection import GridSearchCV, cross_val_score\n",
    "\n",
    "logreg = sklearn.linear_model.SGDClassifier(loss='log', penalty='l1', n_jobs=4,\n",
    "                                            learning_rate='optimal', early_stopping=True, tol=1,\n",
    "                                            validation_fraction=0.3, n_iter_no_change=5)\n",
    "\n",
    "alphas = [0.01, 0.005, 0.001, 0.0005, 0.0001]\n",
    "\n",
    "clf = GridSearchCV(estimator=logreg, param_grid=dict(alpha=alphas),\n",
    "                   n_jobs=2, scoring='accuracy', cv=3)\n",
    "\n",
    "start = time.time()\n",
    "clf.fit(train_feats, train_labels)\n",
    "end = time.time()\n",
    "print(\"Training time: \" + str(end-start))\n",
    "print(\"Best alpha:\", clf.best_estimator_.alpha)\n",
    "print(\"Accuracy on train set \" + str(100*clf.score(train_feats, train_labels)) + \"%\")\n",
    "print(\"Accuracy on valid set \" + str(100*clf.score(valid_feats, valid_labels)) + \"%\")\n",
    "dump(clf, 'mfcc_delta_logreg_sgd.joblib') "
   ]
  },
  {
   "cell_type": "markdown",
   "metadata": {},
   "source": [
    "### b) Logistic regression with SGD and scaled features"
   ]
  },
  {
   "cell_type": "code",
   "execution_count": 16,
   "metadata": {},
   "outputs": [
    {
     "name": "stdout",
     "output_type": "stream",
     "text": [
      "Training time: 590.7417721748352\n",
      "Best alpha: 0.0001\n",
      "Accuracy on train set 39.73%\n",
      "Accuracy on valid set 28.89085025007355%\n"
     ]
    },
    {
     "data": {
      "text/plain": [
       "['mfcc_delta_logreg_sgd_scaled.joblib']"
      ]
     },
     "execution_count": 16,
     "metadata": {},
     "output_type": "execute_result"
    }
   ],
   "source": [
    "from sklearn import preprocessing\n",
    "\n",
    "logreg_scaled = sklearn.linear_model.SGDClassifier(loss='log', penalty='l1', n_jobs=4,\n",
    "                                            learning_rate='optimal', early_stopping=True, tol=1,\n",
    "                                            validation_fraction=0.3, n_iter_no_change=5)\n",
    "\n",
    "alphas = [0.01, 0.005, 0.001, 0.0005, 0.0001]\n",
    "\n",
    "clf_scaled = GridSearchCV(estimator=logreg_scaled, param_grid=dict(alpha=alphas),\n",
    "                   n_jobs=2, scoring='accuracy', cv=3)\n",
    "\n",
    "train_feats_scaled = preprocessing.scale(train_feats)\n",
    "valid_feats_scaled = preprocessing.scale(valid_feats)\n",
    "\n",
    "start = time.time()\n",
    "clf_scaled.fit(train_feats_scaled, train_labels)\n",
    "end = time.time()\n",
    "print(\"Training time: \" + str(end-start))\n",
    "print(\"Best alpha:\", clf_scaled.best_estimator_.alpha)\n",
    "print(\"Accuracy on train set \" + str(100*clf_scaled.score(train_feats_scaled, train_labels)) + \"%\")\n",
    "print(\"Accuracy on valid set \" + str(100*clf_scaled.score(valid_feats_scaled, valid_labels)) + \"%\")\n",
    "dump(clf_scaled, 'mfcc_delta_logreg_sgd_scaled.joblib') "
   ]
  },
  {
   "cell_type": "markdown",
   "metadata": {},
   "source": [
    "### c) MLP"
   ]
  },
  {
   "cell_type": "code",
   "execution_count": 51,
   "metadata": {},
   "outputs": [
    {
     "name": "stdout",
     "output_type": "stream",
     "text": [
      "Train on 30000 samples, validate on 6798 samples\n",
      "Epoch 1/100\n",
      "30000/30000 [==============================] - 5s 168us/step - loss: 3.4848 - acc: 0.0655 - val_loss: 3.1675 - val_acc: 0.1417\n",
      "\n",
      "Epoch 00001: val_acc improved from -inf to 0.14166, saving model to ./mfcc_delta_keras.hdf5\n",
      "Epoch 2/100\n",
      "30000/30000 [==============================] - 2s 68us/step - loss: 3.0477 - acc: 0.1518 - val_loss: 2.7443 - val_acc: 0.2570\n",
      "\n",
      "Epoch 00002: val_acc improved from 0.14166 to 0.25699, saving model to ./mfcc_delta_keras.hdf5\n",
      "Epoch 3/100\n",
      "30000/30000 [==============================] - 2s 65us/step - loss: 2.7138 - acc: 0.2271 - val_loss: 2.4175 - val_acc: 0.3391\n",
      "\n",
      "Epoch 00003: val_acc improved from 0.25699 to 0.33907, saving model to ./mfcc_delta_keras.hdf5\n",
      "Epoch 4/100\n",
      "30000/30000 [==============================] - 2s 63us/step - loss: 2.3952 - acc: 0.3105 - val_loss: 2.1033 - val_acc: 0.4232\n",
      "\n",
      "Epoch 00004: val_acc improved from 0.33907 to 0.42321, saving model to ./mfcc_delta_keras.hdf5\n",
      "Epoch 5/100\n",
      "30000/30000 [==============================] - 2s 63us/step - loss: 2.1338 - acc: 0.3768 - val_loss: 1.9023 - val_acc: 0.4670\n",
      "\n",
      "Epoch 00005: val_acc improved from 0.42321 to 0.46705, saving model to ./mfcc_delta_keras.hdf5\n",
      "Epoch 6/100\n",
      "30000/30000 [==============================] - 2s 64us/step - loss: 1.9186 - acc: 0.4350 - val_loss: 1.6933 - val_acc: 0.5290\n",
      "\n",
      "Epoch 00006: val_acc improved from 0.46705 to 0.52898, saving model to ./mfcc_delta_keras.hdf5\n",
      "Epoch 7/100\n",
      "30000/30000 [==============================] - 2s 63us/step - loss: 1.7455 - acc: 0.4840 - val_loss: 1.5464 - val_acc: 0.5697\n",
      "\n",
      "Epoch 00007: val_acc improved from 0.52898 to 0.56973, saving model to ./mfcc_delta_keras.hdf5\n",
      "Epoch 8/100\n",
      "30000/30000 [==============================] - 2s 64us/step - loss: 1.5860 - acc: 0.5282 - val_loss: 1.4422 - val_acc: 0.5930\n",
      "\n",
      "Epoch 00008: val_acc improved from 0.56973 to 0.59297, saving model to ./mfcc_delta_keras.hdf5\n",
      "Epoch 9/100\n",
      "30000/30000 [==============================] - 2s 65us/step - loss: 1.4549 - acc: 0.5701 - val_loss: 1.3333 - val_acc: 0.6246\n",
      "\n",
      "Epoch 00009: val_acc improved from 0.59297 to 0.62460, saving model to ./mfcc_delta_keras.hdf5\n",
      "Epoch 10/100\n",
      "30000/30000 [==============================] - 2s 64us/step - loss: 1.3419 - acc: 0.6006 - val_loss: 1.2489 - val_acc: 0.6436\n",
      "\n",
      "Epoch 00010: val_acc improved from 0.62460 to 0.64357, saving model to ./mfcc_delta_keras.hdf5\n",
      "Epoch 11/100\n",
      "30000/30000 [==============================] - 2s 66us/step - loss: 1.2455 - acc: 0.6298 - val_loss: 1.2203 - val_acc: 0.6477\n",
      "\n",
      "Epoch 00011: val_acc improved from 0.64357 to 0.64769, saving model to ./mfcc_delta_keras.hdf5\n",
      "Epoch 12/100\n",
      "30000/30000 [==============================] - 2s 63us/step - loss: 1.1690 - acc: 0.6523 - val_loss: 1.1445 - val_acc: 0.6698\n",
      "\n",
      "Epoch 00012: val_acc improved from 0.64769 to 0.66976, saving model to ./mfcc_delta_keras.hdf5\n",
      "Epoch 13/100\n",
      "30000/30000 [==============================] - 2s 63us/step - loss: 1.0975 - acc: 0.6734 - val_loss: 1.1110 - val_acc: 0.6774\n",
      "\n",
      "Epoch 00013: val_acc improved from 0.66976 to 0.67741, saving model to ./mfcc_delta_keras.hdf5\n",
      "Epoch 14/100\n",
      "30000/30000 [==============================] - 2s 63us/step - loss: 1.0294 - acc: 0.6935 - val_loss: 1.0487 - val_acc: 0.6940\n",
      "\n",
      "Epoch 00014: val_acc improved from 0.67741 to 0.69403, saving model to ./mfcc_delta_keras.hdf5\n",
      "Epoch 15/100\n",
      "30000/30000 [==============================] - 2s 63us/step - loss: 0.9742 - acc: 0.7086 - val_loss: 1.0128 - val_acc: 0.7061\n",
      "\n",
      "Epoch 00015: val_acc improved from 0.69403 to 0.70609, saving model to ./mfcc_delta_keras.hdf5\n",
      "Epoch 16/100\n",
      "30000/30000 [==============================] - 2s 65us/step - loss: 0.9233 - acc: 0.7218 - val_loss: 0.9624 - val_acc: 0.7161\n",
      "\n",
      "Epoch 00016: val_acc improved from 0.70609 to 0.71609, saving model to ./mfcc_delta_keras.hdf5\n",
      "Epoch 17/100\n",
      "30000/30000 [==============================] - 2s 66us/step - loss: 0.8695 - acc: 0.7383 - val_loss: 0.9737 - val_acc: 0.7123\n",
      "\n",
      "Epoch 00017: val_acc did not improve from 0.71609\n",
      "Epoch 18/100\n",
      "30000/30000 [==============================] - 2s 66us/step - loss: 0.8366 - acc: 0.7467 - val_loss: 0.9536 - val_acc: 0.7214\n",
      "\n",
      "Epoch 00018: val_acc improved from 0.71609 to 0.72139, saving model to ./mfcc_delta_keras.hdf5\n",
      "Epoch 19/100\n",
      "30000/30000 [==============================] - 2s 64us/step - loss: 0.7873 - acc: 0.7625 - val_loss: 0.9317 - val_acc: 0.7211\n",
      "\n",
      "Epoch 00019: val_acc did not improve from 0.72139\n",
      "Epoch 20/100\n",
      "30000/30000 [==============================] - 2s 63us/step - loss: 0.7507 - acc: 0.7730 - val_loss: 0.8974 - val_acc: 0.7327\n",
      "\n",
      "Epoch 00020: val_acc improved from 0.72139 to 0.73272, saving model to ./mfcc_delta_keras.hdf5\n",
      "Epoch 21/100\n",
      "30000/30000 [==============================] - 2s 66us/step - loss: 0.7207 - acc: 0.7815 - val_loss: 0.8821 - val_acc: 0.7407\n",
      "\n",
      "Epoch 00021: val_acc improved from 0.73272 to 0.74066, saving model to ./mfcc_delta_keras.hdf5\n",
      "Epoch 22/100\n",
      "30000/30000 [==============================] - 2s 66us/step - loss: 0.6876 - acc: 0.7889 - val_loss: 0.9001 - val_acc: 0.7311\n",
      "\n",
      "Epoch 00022: val_acc did not improve from 0.74066\n",
      "Epoch 23/100\n",
      "30000/30000 [==============================] - 2s 64us/step - loss: 0.6728 - acc: 0.7935 - val_loss: 0.8943 - val_acc: 0.7354\n",
      "\n",
      "Epoch 00023: val_acc did not improve from 0.74066\n",
      "Epoch 24/100\n",
      "30000/30000 [==============================] - 2s 66us/step - loss: 0.6228 - acc: 0.8095 - val_loss: 0.8530 - val_acc: 0.7489\n",
      "\n",
      "Epoch 00024: val_acc improved from 0.74066 to 0.74890, saving model to ./mfcc_delta_keras.hdf5\n",
      "Epoch 25/100\n",
      "30000/30000 [==============================] - 2s 65us/step - loss: 0.6071 - acc: 0.8118 - val_loss: 0.8507 - val_acc: 0.7482\n",
      "\n",
      "Epoch 00025: val_acc did not improve from 0.74890\n",
      "Epoch 26/100\n",
      "30000/30000 [==============================] - 2s 65us/step - loss: 0.5673 - acc: 0.8282 - val_loss: 0.8508 - val_acc: 0.7479\n",
      "\n",
      "Epoch 00026: val_acc did not improve from 0.74890\n",
      "Epoch 27/100\n",
      "30000/30000 [==============================] - 2s 64us/step - loss: 0.5564 - acc: 0.8300 - val_loss: 0.8435 - val_acc: 0.7499\n",
      "\n",
      "Epoch 00027: val_acc improved from 0.74890 to 0.74993, saving model to ./mfcc_delta_keras.hdf5\n",
      "Epoch 28/100\n",
      "30000/30000 [==============================] - 2s 66us/step - loss: 0.5275 - acc: 0.8384 - val_loss: 0.8287 - val_acc: 0.7576\n",
      "\n",
      "Epoch 00028: val_acc improved from 0.74993 to 0.75758, saving model to ./mfcc_delta_keras.hdf5\n",
      "Epoch 29/100\n",
      "30000/30000 [==============================] - 2s 67us/step - loss: 0.4962 - acc: 0.8458 - val_loss: 0.8416 - val_acc: 0.7558\n",
      "\n",
      "Epoch 00029: val_acc did not improve from 0.75758\n",
      "Epoch 30/100\n",
      "30000/30000 [==============================] - 2s 66us/step - loss: 0.4768 - acc: 0.8543 - val_loss: 0.8311 - val_acc: 0.7565\n",
      "\n",
      "Epoch 00030: val_acc did not improve from 0.75758\n",
      "Epoch 31/100\n",
      "30000/30000 [==============================] - 2s 65us/step - loss: 0.4582 - acc: 0.8598 - val_loss: 0.8039 - val_acc: 0.7688\n",
      "\n",
      "Epoch 00031: val_acc improved from 0.75758 to 0.76876, saving model to ./mfcc_delta_keras.hdf5\n",
      "Epoch 32/100\n",
      "30000/30000 [==============================] - 2s 63us/step - loss: 0.4394 - acc: 0.8659 - val_loss: 0.8069 - val_acc: 0.7692\n",
      "\n",
      "Epoch 00032: val_acc improved from 0.76876 to 0.76920, saving model to ./mfcc_delta_keras.hdf5\n",
      "Epoch 33/100\n",
      "30000/30000 [==============================] - 2s 63us/step - loss: 0.4153 - acc: 0.8722 - val_loss: 0.8002 - val_acc: 0.7702\n",
      "\n",
      "Epoch 00033: val_acc improved from 0.76920 to 0.77023, saving model to ./mfcc_delta_keras.hdf5\n",
      "Epoch 34/100\n",
      "30000/30000 [==============================] - 2s 63us/step - loss: 0.3987 - acc: 0.8790 - val_loss: 0.8135 - val_acc: 0.7649\n",
      "\n",
      "Epoch 00034: val_acc did not improve from 0.77023\n",
      "6798/6798 [==============================] - 1s 105us/step\n",
      "Validation accuracy: 0.7649308619831688\n"
     ]
    }
   ],
   "source": [
    "train_labels2 = keras.utils.to_categorical(train_labels, num_classes=30)\n",
    "valid_labels2 = keras.utils.to_categorical(valid_labels, num_classes=30)\n",
    "\n",
    "model = Sequential()\n",
    "model.add(Dense(2048, activation='relu', input_dim=train_feats.shape[1]))\n",
    "model.add(Dense(1024, activation='relu'))\n",
    "model.add(Dense(512, activation='relu'))\n",
    "model.add(Dropout(0.5))\n",
    "model.add(Dense(128, activation='linear'))\n",
    "model.add(Dense(64, activation='linear'))\n",
    "model.add(Dense(30, activation='softmax'))\n",
    "\n",
    "adam = Adam(lr=0.0001)\n",
    "model.compile(loss='categorical_crossentropy',\n",
    "              optimizer=adam,\n",
    "              metrics=['accuracy'])\n",
    "\n",
    "reduce = ReduceLROnPlateau(monitor='val_loss', factor=0.5, patience=10, mode='auto', verbose=1)\n",
    "early = EarlyStopping(monitor='val_loss', min_delta=0.1, patience=10, mode='auto')\n",
    "checkpointer = ModelCheckpoint(filepath='./mfcc_delta_keras.hdf5', monitor='val_acc',\n",
    "                               verbose=1, save_best_only=True)\n",
    "\n",
    "model.fit(train_feats, train_labels2,  validation_data=(valid_feats, valid_labels2), \n",
    "          epochs=100, batch_size=1024, callbacks=[checkpointer, early])\n",
    "\n",
    "score, acc = model.evaluate(valid_feats, valid_labels2)\n",
    "print('Validation accuracy:', acc)"
   ]
  },
  {
   "cell_type": "markdown",
   "metadata": {},
   "source": [
    "### d) MLP with scaled features"
   ]
  },
  {
   "cell_type": "code",
   "execution_count": 52,
   "metadata": {},
   "outputs": [
    {
     "name": "stdout",
     "output_type": "stream",
     "text": [
      "Train on 30000 samples, validate on 6798 samples\n",
      "Epoch 1/100\n",
      "30000/30000 [==============================] - 5s 172us/step - loss: 3.1535 - acc: 0.1416 - val_loss: 2.5067 - val_acc: 0.3217\n",
      "\n",
      "Epoch 00001: val_acc improved from -inf to 0.32171, saving model to ./mfcc_delta_keras_scaled.hdf5\n",
      "Epoch 2/100\n",
      "30000/30000 [==============================] - 2s 62us/step - loss: 2.3235 - acc: 0.3418 - val_loss: 1.9143 - val_acc: 0.4741\n",
      "\n",
      "Epoch 00002: val_acc improved from 0.32171 to 0.47411, saving model to ./mfcc_delta_keras_scaled.hdf5\n",
      "Epoch 3/100\n",
      "30000/30000 [==============================] - 2s 63us/step - loss: 1.8436 - acc: 0.4690 - val_loss: 1.5676 - val_acc: 0.5652\n",
      "\n",
      "Epoch 00003: val_acc improved from 0.47411 to 0.56517, saving model to ./mfcc_delta_keras_scaled.hdf5\n",
      "Epoch 4/100\n",
      "30000/30000 [==============================] - 2s 62us/step - loss: 1.5077 - acc: 0.5611 - val_loss: 1.3672 - val_acc: 0.6147\n",
      "\n",
      "Epoch 00004: val_acc improved from 0.56517 to 0.61474, saving model to ./mfcc_delta_keras_scaled.hdf5\n",
      "Epoch 5/100\n",
      "30000/30000 [==============================] - 2s 61us/step - loss: 1.2648 - acc: 0.6307 - val_loss: 1.2199 - val_acc: 0.6517\n",
      "\n",
      "Epoch 00005: val_acc improved from 0.61474 to 0.65166, saving model to ./mfcc_delta_keras_scaled.hdf5\n",
      "Epoch 6/100\n",
      "30000/30000 [==============================] - 2s 61us/step - loss: 1.0999 - acc: 0.6785 - val_loss: 1.1175 - val_acc: 0.6792\n",
      "\n",
      "Epoch 00006: val_acc improved from 0.65166 to 0.67917, saving model to ./mfcc_delta_keras_scaled.hdf5\n",
      "Epoch 7/100\n",
      "30000/30000 [==============================] - 2s 62us/step - loss: 0.9664 - acc: 0.7116 - val_loss: 1.0582 - val_acc: 0.6967\n",
      "\n",
      "Epoch 00007: val_acc improved from 0.67917 to 0.69668, saving model to ./mfcc_delta_keras_scaled.hdf5\n",
      "Epoch 8/100\n",
      "30000/30000 [==============================] - 2s 62us/step - loss: 0.8501 - acc: 0.7490 - val_loss: 1.0093 - val_acc: 0.7065\n",
      "\n",
      "Epoch 00008: val_acc improved from 0.69668 to 0.70653, saving model to ./mfcc_delta_keras_scaled.hdf5\n",
      "Epoch 9/100\n",
      "30000/30000 [==============================] - 2s 60us/step - loss: 0.7630 - acc: 0.7743 - val_loss: 0.9764 - val_acc: 0.7118\n",
      "\n",
      "Epoch 00009: val_acc improved from 0.70653 to 0.71183, saving model to ./mfcc_delta_keras_scaled.hdf5\n",
      "Epoch 10/100\n",
      "30000/30000 [==============================] - 2s 61us/step - loss: 0.6816 - acc: 0.7976 - val_loss: 0.9421 - val_acc: 0.7284\n",
      "\n",
      "Epoch 00010: val_acc improved from 0.71183 to 0.72845, saving model to ./mfcc_delta_keras_scaled.hdf5\n",
      "Epoch 11/100\n",
      "30000/30000 [==============================] - 2s 62us/step - loss: 0.6099 - acc: 0.8157 - val_loss: 0.9278 - val_acc: 0.7327\n",
      "\n",
      "Epoch 00011: val_acc improved from 0.72845 to 0.73272, saving model to ./mfcc_delta_keras_scaled.hdf5\n",
      "Epoch 12/100\n",
      "30000/30000 [==============================] - 2s 63us/step - loss: 0.5474 - acc: 0.8345 - val_loss: 0.9201 - val_acc: 0.7312\n",
      "\n",
      "Epoch 00012: val_acc did not improve from 0.73272\n",
      "Epoch 13/100\n",
      "30000/30000 [==============================] - 2s 60us/step - loss: 0.4908 - acc: 0.8542 - val_loss: 0.8930 - val_acc: 0.7377\n",
      "\n",
      "Epoch 00013: val_acc improved from 0.73272 to 0.73772, saving model to ./mfcc_delta_keras_scaled.hdf5\n",
      "Epoch 14/100\n",
      "30000/30000 [==============================] - 2s 62us/step - loss: 0.4443 - acc: 0.8694 - val_loss: 0.8952 - val_acc: 0.7405\n",
      "\n",
      "Epoch 00014: val_acc improved from 0.73772 to 0.74051, saving model to ./mfcc_delta_keras_scaled.hdf5\n",
      "Epoch 15/100\n",
      "30000/30000 [==============================] - 2s 60us/step - loss: 0.4027 - acc: 0.8801 - val_loss: 0.8774 - val_acc: 0.7507\n",
      "\n",
      "Epoch 00015: val_acc improved from 0.74051 to 0.75066, saving model to ./mfcc_delta_keras_scaled.hdf5\n",
      "Epoch 16/100\n",
      "30000/30000 [==============================] - 2s 61us/step - loss: 0.3638 - acc: 0.8920 - val_loss: 0.8891 - val_acc: 0.7479\n",
      "\n",
      "Epoch 00016: val_acc did not improve from 0.75066\n",
      "Epoch 17/100\n",
      "30000/30000 [==============================] - 2s 62us/step - loss: 0.3327 - acc: 0.9031 - val_loss: 0.9044 - val_acc: 0.7485\n",
      "\n",
      "Epoch 00017: val_acc did not improve from 0.75066\n",
      "Epoch 18/100\n",
      "30000/30000 [==============================] - 2s 60us/step - loss: 0.2967 - acc: 0.9136 - val_loss: 0.8787 - val_acc: 0.7530\n",
      "\n",
      "Epoch 00018: val_acc improved from 0.75066 to 0.75302, saving model to ./mfcc_delta_keras_scaled.hdf5\n",
      "Epoch 19/100\n",
      "30000/30000 [==============================] - 2s 61us/step - loss: 0.2692 - acc: 0.9222 - val_loss: 0.8942 - val_acc: 0.7542\n",
      "\n",
      "Epoch 00019: val_acc improved from 0.75302 to 0.75419, saving model to ./mfcc_delta_keras_scaled.hdf5\n",
      "Epoch 20/100\n",
      "30000/30000 [==============================] - 2s 62us/step - loss: 0.2444 - acc: 0.9303 - val_loss: 0.8967 - val_acc: 0.7548\n",
      "\n",
      "Epoch 00020: val_acc improved from 0.75419 to 0.75478, saving model to ./mfcc_delta_keras_scaled.hdf5\n",
      "Epoch 21/100\n",
      "30000/30000 [==============================] - 2s 61us/step - loss: 0.2182 - acc: 0.9402 - val_loss: 0.8896 - val_acc: 0.7561\n",
      "\n",
      "Epoch 00021: val_acc improved from 0.75478 to 0.75610, saving model to ./mfcc_delta_keras_scaled.hdf5\n",
      "Epoch 22/100\n",
      "30000/30000 [==============================] - 2s 62us/step - loss: 0.1928 - acc: 0.9467 - val_loss: 0.9114 - val_acc: 0.7582\n",
      "\n",
      "Epoch 00022: val_acc improved from 0.75610 to 0.75816, saving model to ./mfcc_delta_keras_scaled.hdf5\n",
      "Epoch 23/100\n",
      "30000/30000 [==============================] - 2s 63us/step - loss: 0.1787 - acc: 0.9499 - val_loss: 0.9208 - val_acc: 0.7608\n",
      "\n",
      "Epoch 00023: val_acc improved from 0.75816 to 0.76081, saving model to ./mfcc_delta_keras_scaled.hdf5\n",
      "6798/6798 [==============================] - 1s 105us/step\n",
      "Validation accuracy: 0.760812003565522\n"
     ]
    }
   ],
   "source": [
    "#MLP with scaled features\n",
    "train_feats_scaled = preprocessing.scale(train_feats)\n",
    "valid_feats_scaled = preprocessing.scale(valid_feats)\n",
    "\n",
    "\n",
    "train_labels2 = keras.utils.to_categorical(train_labels, num_classes=30)\n",
    "valid_labels2 = keras.utils.to_categorical(valid_labels, num_classes=30)\n",
    "\n",
    "model = Sequential()\n",
    "model.add(Dense(2048, activation='relu', input_dim=train_feats_scaled.shape[1]))\n",
    "model.add(Dense(1024, activation='relu'))\n",
    "model.add(Dense(512, activation='relu'))\n",
    "model.add(Dropout(0.5))\n",
    "model.add(Dense(128, activation='linear'))\n",
    "model.add(Dense(64, activation='linear'))\n",
    "model.add(Dense(30, activation='softmax'))\n",
    "\n",
    "adam = Adam(lr=0.0001)\n",
    "model.compile(loss='categorical_crossentropy',\n",
    "              optimizer=adam,\n",
    "              metrics=['accuracy'])\n",
    "\n",
    "reduce = ReduceLROnPlateau(monitor='val_loss', factor=0.5, patience=10, mode='auto', verbose=1)\n",
    "early = EarlyStopping(monitor='val_loss', min_delta=0.1, patience=10, mode='auto')\n",
    "checkpointer = ModelCheckpoint(filepath='./mfcc_delta_keras_scaled.hdf5', monitor='val_acc',\n",
    "                               verbose=1, save_best_only=True)\n",
    "\n",
    "model.fit(train_feats_scaled, train_labels2,  validation_data=(valid_feats_scaled, valid_labels2), \n",
    "          epochs=100, batch_size=1024, callbacks=[checkpointer, early])\n",
    "\n",
    "\n",
    "score, acc = model.evaluate(valid_feats_scaled, valid_labels2)\n",
    "print('Validation accuracy:', acc)"
   ]
  },
  {
   "cell_type": "markdown",
   "metadata": {},
   "source": [
    "## Performance of the best model on the test set"
   ]
  },
  {
   "cell_type": "code",
   "execution_count": 7,
   "metadata": {},
   "outputs": [
    {
     "name": "stdout",
     "output_type": "stream",
     "text": [
      "Time to output features: 364.38109064102173\n",
      "(30000, 3939)\n",
      "6798/6798 [==============================] - 1s 122us/step\n",
      "6835/6835 [==============================] - 1s 106us/step\n",
      "Validation accuracy: 0.7702265371817566\n",
      "Test accuracy: 0.7599122165063915\n"
     ]
    }
   ],
   "source": [
    "framerate = 16000\n",
    "mfcc = spectral.Spectral(nfilt=26,\n",
    "                    ncep=13,\n",
    "                    do_dct=True,\n",
    "                    lowerf=300,\n",
    "                    upperf=8000,\n",
    "                    alpha=0.97,\n",
    "                    fs=framerate,\n",
    "                    frate=100,\n",
    "                    wlen=0.025,\n",
    "                    nfft=512,\n",
    "                    compression='log',\n",
    "                    do_deltas=True,\n",
    "                    do_deltasdeltas=True)\n",
    "# Choose the feature function\n",
    "feature_function = mfcc\n",
    "\n",
    "start = time.time()\n",
    "train_feats = np.asarray(pad(transform_wavs(train_wavs, feature_function)))\n",
    "valid_feats = np.asarray(pad(transform_wavs(valid_wavs, feature_function)))\n",
    "test_feats = np.asarray(pad(transform_wavs(test_wavs, feature_function)))\n",
    "end = time.time()\n",
    "\n",
    "print(\"Time to output features: \" + str(end-start))\n",
    "print(train_feats.shape)\n",
    "\n",
    "model = load_model('./mfcc_delta_keras.hdf5')\n",
    "\n",
    "train_labels2 = keras.utils.to_categorical(train_labels, num_classes=30)\n",
    "valid_labels2 = keras.utils.to_categorical(valid_labels, num_classes=30)\n",
    "test_labels2 = keras.utils.to_categorical(test_labels, num_classes=30)\n",
    "\n",
    "score1, acc1 = model.evaluate(valid_feats, valid_labels2)\n",
    "score2, acc2 = model.evaluate(test_feats, test_labels2)\n",
    "print('Validation accuracy:', acc1)\n",
    "print('Test accuracy:', acc2)"
   ]
  },
  {
   "cell_type": "markdown",
   "metadata": {},
   "source": [
    "***\n",
    "\n",
    "# Part 2"
   ]
  },
  {
   "cell_type": "code",
   "execution_count": 8,
   "metadata": {},
   "outputs": [
    {
     "data": {
      "text/html": [
       "\n",
       "                <audio controls=\"controls\" >\n",
       "                    <source src=\"data:audio/wav;base64,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\" type=\"audio/wav\" />\n",
       "                    Your browser does not support the audio element.\n",
       "                </audio>\n",
       "              "
      ],
      "text/plain": [
       "<IPython.lib.display.Audio object>"
      ]
     },
     "execution_count": 8,
     "metadata": {},
     "output_type": "execute_result"
    }
   ],
   "source": [
    "#!wget https://raw.githubusercontent.com/Rachine/Rachine.github.io/master/data/train_sequence_list.txt \n",
    "#!wget https://raw.githubusercontent.com/Rachine/Rachine.github.io/master/data/test_sequence_list.txt \n",
    "\n",
    "\n",
    "path_to_wavs = './speech_commands/'\n",
    "train_sequence_list = [ast.literal_eval(ex) for ex in txt2list('./train_sequence_list.txt') ]\n",
    "test_sequence_list = [ast.literal_eval(ex) for ex in txt2list('./test_sequence_list.txt') ]\n",
    "\n",
    "def generate_wav_from_list_sequence(generated_list_sequence): \n",
    "    wavs = np.array([])\n",
    "    for command in generated_list_sequence[1:]:\n",
    "        wav_name = os.path.join((path_to_wavs),command[1])\n",
    "        sample_rate, signal = wav.read(wav_name)\n",
    "        wavs = np.append(wavs,signal)\n",
    "    return wavs\n",
    "\n",
    "\n",
    "# Again warning do not forget to change your pad function according to your choice of input features\n",
    "  \n",
    "def generate_posteriors_from_list_sequence(generated_list_sequence, model_predict_proba_function, feature_func): \n",
    "    posteriors = []\n",
    "    for command in generated_list_sequence[1:]:\n",
    "        wav_name = os.path.join((path_to_wavs),command[1])\n",
    "        sample_rate, signal = wav.read(wav_name)\n",
    "        features_input = np.asarray(pad(transform_wavs([signal], feature_function)))\n",
    "        posterior = model_predict_proba_function(features_input)\n",
    "        posteriors.append(posterior)\n",
    "    \n",
    "    posteriors = np.array(posteriors).reshape(-1,len(label_set))\n",
    "    return posteriors\n",
    "\n",
    "example_sequence = train_sequence_list[20]\n",
    "sequence_wav  = generate_wav_from_list_sequence(example_sequence)\n",
    "\n",
    "IPython.display.Audio(sequence_wav, rate=16000)\n"
   ]
  },
  {
   "cell_type": "code",
   "execution_count": 9,
   "metadata": {},
   "outputs": [],
   "source": [
    "framerate = 16000\n",
    "mfcc = spectral.Spectral(nfilt=26,\n",
    "                    ncep=13,\n",
    "                    do_dct=True,\n",
    "                    lowerf=300,\n",
    "                    upperf=8000,\n",
    "                    alpha=0.97,\n",
    "                    fs=framerate,\n",
    "                    frate=100,\n",
    "                    wlen=0.025,\n",
    "                    nfft=512,\n",
    "                    compression='log',\n",
    "                    do_deltas=True,\n",
    "                    do_deltasdeltas=True)\n",
    "# Choose the feature function\n",
    "feature_function = mfcc\n",
    "model = load_model('./mfcc_delta_keras.hdf5')"
   ]
  },
  {
   "cell_type": "code",
   "execution_count": 13,
   "metadata": {},
   "outputs": [
    {
     "data": {
      "image/png": "[encoded data removed]",
      "text/plain": [
       "<Figure size 432x288 with 1 Axes>"
      ]
     },
     "metadata": {
      "needs_background": "light"
     },
     "output_type": "display_data"
    },
    {
     "name": "stdout",
     "output_type": "stream",
     "text": [
      "True sentence:  go marvin one right stop\n",
      "Predicted sentence with greedy search:  go marvin one right stop\n",
      "WER:  0.0\n"
     ]
    }
   ],
   "source": [
    "example_sequence = train_sequence_list[10]\n",
    "\n",
    "posteriors_neural_mfcc = np.array(\n",
    "    generate_posteriors_from_list_sequence(example_sequence, model.predict_proba, mfcc))\n",
    "\n",
    "\n",
    "list_plots = plt.plot(['Word_'+str(el) for el in range(posteriors_neural_mfcc.shape[0])],posteriors_neural_mfcc)\n",
    "plt.legend(list_plots, label_set, loc=\"upper left\", bbox_to_anchor=(1,1), ncol=6)\n",
    "plt.ylabel('Posterior activations')\n",
    "plt.title('Neural network activations with bad MFCCs')\n",
    "plt.show()\n",
    "\n",
    "\n",
    "def greedy_decoder(data):\n",
    "    predicted_sequence = [np.argmax(s) for s in data]\n",
    "    predicted_sequence = [label_set[el] for el in predicted_sequence]\n",
    "    return predicted_sequence\n",
    "\n",
    "def sequence_format_to_text(sentence):\n",
    "    return [el[0] for el in sentence[1:]]\n",
    "\n",
    "predicted_sequence = greedy_decoder(posteriors_neural_mfcc)\n",
    "print('True sentence: ', ' '.join(sequence_format_to_text(example_sequence)))\n",
    "print('Predicted sentence with greedy search: ', ' '.join(predicted_sequence))\n",
    "print('WER: ',jiwer.wer(' '.join(sequence_format_to_text(example_sequence)),' '.join(predicted_sequence)))"
   ]
  },
  {
   "cell_type": "code",
   "execution_count": 11,
   "metadata": {},
   "outputs": [
    {
     "name": "stdout",
     "output_type": "stream",
     "text": [
      "Subset Train WER:  0.2642543859649123\n",
      "Test WER:  0.2657952069716776\n",
      "Evaluation time: 56.27034640312195\n"
     ]
    }
   ],
   "source": [
    "# Evaluation of WER for the Greedy Search decoding\n",
    "\n",
    "train_hypothesis = []\n",
    "train_reference = []\n",
    "\n",
    "# EVALUATION on the full train set takes too much time, so you should evaluate on a subset\n",
    "\n",
    "for sentence in  np.random.choice(train_sequence_list, 300, replace=False):\n",
    "    posteriors_neural_mfcc = np.array(generate_posteriors_from_list_sequence(sentence, model.predict_proba, mfcc))\n",
    "    predicted_sequence = greedy_decoder(posteriors_neural_mfcc)\n",
    "    train_hypothesis.append(' '.join(predicted_sequence))\n",
    "    train_reference.append(' '.join(sequence_format_to_text(sentence)))\n",
    "  \n",
    "  \n",
    "test_hypothesis = []\n",
    "test_reference = []\n",
    "for idx, sentence in enumerate(test_sequence_list):\n",
    "    posteriors_neural_mfcc = np.array(generate_posteriors_from_list_sequence(sentence, model.predict_proba, mfcc))\n",
    "    predicted_sequence = greedy_decoder(posteriors_neural_mfcc)\n",
    "    test_hypothesis.append(' '.join(predicted_sequence))\n",
    "    test_reference.append(' '.join(sequence_format_to_text(sentence)))\n",
    "\n",
    "start = time.time()\n",
    "print('Subset Train WER: ',jiwer.wer(train_reference, train_hypothesis))\n",
    "print('Test WER: ',jiwer.wer(test_reference, test_hypothesis))\n",
    "\n",
    "end = time.time()\n",
    "\n",
    "print(\"Evaluation time: \" + str(end-start))\n"
   ]
  },
  {
   "cell_type": "code",
   "execution_count": 69,
   "metadata": {},
   "outputs": [],
   "source": [
    "#Build HERE the transition matrix with Uni-Gram and Bi-gram modelling. \n",
    "#You can also do an implementation with bigger N.\n",
    "\n",
    "size = len(label_set)\n",
    "transmat = np.ones((size,size))  #Initialize with a matrix of ones: Laplace smoothing\n",
    "dic = {word:i for (i,word) in enumerate(label_set)}\n",
    "sequences = [[l[0] for l in seq[1:]] for seq in train_sequence_list]\n",
    "bigrams = [(seq[i], seq[i+1]) for seq in sequences for i in range(len(seq)-1)]\n",
    "for (w1,w2) in bigrams:\n",
    "    transmat[dic[w1], dic[w2]] += 1 #Increment count\n",
    "for i in range(size):\n",
    "    if np.sum(transmat[i,:]) > 0:\n",
    "        transmat[i,:] /= np.sum(transmat[i,:])  #Normalize to get probability"
   ]
  },
  {
   "cell_type": "code",
   "execution_count": 116,
   "metadata": {},
   "outputs": [],
   "source": [
    "# Beam Search decoder\n",
    "def beam_search_decoder(data, transition_matrix, beam_size=5):\n",
    "    #Initialize beam_size single words using the highest probabilities given by the discriminator\n",
    "    #To avoid underflows we work in log space \n",
    "    sequences = [([i], np.log(transition_matrix[0,i])) \n",
    "                 for i in np.argpartition(transition_matrix[0,:], -beam_size)[-beam_size:]]\n",
    "    #Loop over spoken words\n",
    "    for i in range(1,len(data)):\n",
    "        candidates = []  #List of candidate sequences\n",
    "        for (seq, score) in sequences:\n",
    "            #Compute scores that take into account the bigram language model\n",
    "            scores = score + np.log(data[i]) + np.log(transition_matrix[seq[-1]])  \n",
    "            #Update list of candidates\n",
    "            candidates = candidates + [(seq+[j], scores[j]) for j in range(data.shape[1])]\n",
    "        #Keep beam_size candidates with the highest scores\n",
    "        ordered = sorted(candidates, key=lambda tup:tup[1], reverse=True)\n",
    "        #Complexity could be reduced to linear by using argpartition instead of sorting the whole list\n",
    "        sequences = ordered[:beam_size]      \n",
    "            \n",
    "    index = np.argmax([score for (seq, score) in sequences])\n",
    "    seq = sequences[index][0]\n",
    "    predicted_sequence = [label_set[el] for el in seq]\n",
    "    return predicted_sequence"
   ]
  },
  {
   "cell_type": "code",
   "execution_count": 118,
   "metadata": {},
   "outputs": [
    {
     "name": "stdout",
     "output_type": "stream",
     "text": [
      "True sentence:  go marvin one right stop\n",
      "Predicted sentence with beam search size 5:  up marvin one right stop\n",
      "Predicted sentence with greedy search:  go marvin one right stop\n",
      "WER:  0.2\n"
     ]
    }
   ],
   "source": [
    "example_sequence = train_sequence_list[10]\n",
    "\n",
    "size = 5\n",
    "posteriors_neural_mfcc = np.array(generate_posteriors_from_list_sequence(example_sequence, model.predict_proba, mfcc))\n",
    "predicted_sequence = beam_search_decoder(posteriors_neural_mfcc, transmat, size)\n",
    "predicted_sequence_greedy = greedy_decoder(posteriors_neural_mfcc)\n",
    "print('True sentence: ', ' '.join(sequence_format_to_text(example_sequence)))\n",
    "print('Predicted sentence with beam search size '+str(size)+': ', ' '.join(predicted_sequence))\n",
    "print('Predicted sentence with greedy search: ', ' '.join(predicted_sequence_greedy))\n",
    "print('WER: ',jiwer.wer(' '.join(sequence_format_to_text(example_sequence)),' '.join(predicted_sequence)))"
   ]
  },
  {
   "cell_type": "code",
   "execution_count": 119,
   "metadata": {},
   "outputs": [],
   "source": [
    "# Viterbi decoder\n",
    "def viterbi_decoder(data,transition_matrix):\n",
    "    seq_len, vocab_len = data.shape \n",
    "    states = np.zeros((vocab_len, seq_len), dtype=int)\n",
    "    probas = np.zeros((vocab_len, seq_len))\n",
    "    sequence = np.zeros(seq_len, dtype=int) \n",
    "    \n",
    "    init = np.full(vocab_len, 1/vocab_len)\n",
    "    \n",
    "    probas[:,0] = np.multiply(init, data[0, :])\n",
    "    \n",
    "    for i in range(1, seq_len):\n",
    "        for j in range(vocab_len):\n",
    "            update = np.multiply(probas[:,i-1], transition_matrix[:,j])\n",
    "            states[j,i] = np.argmax(update)\n",
    "            probas[j,i] = update[states[j,i]]*data[i, j]\n",
    "\n",
    "    sequence[-1] = np.argmax(probas[:,-1])\n",
    "    for i in reversed(range(seq_len-1)):\n",
    "        sequence[i] = states[(sequence[i+1]), i+1]\n",
    "\n",
    "    predicted_sequence = [label_set[el] for el in sequence]\n",
    "    return predicted_sequence"
   ]
  },
  {
   "cell_type": "code",
   "execution_count": 121,
   "metadata": {},
   "outputs": [
    {
     "name": "stdout",
     "output_type": "stream",
     "text": [
      "True sentence:  go marvin one right stop\n",
      "Predicted sentence with viterbi search:  go marvin one right stop\n",
      "Predicted sentence with beam search size 5:  up marvin one right stop\n",
      "Predicted sentence with greedy search:  go marvin one right stop\n",
      "WER:  0.0\n"
     ]
    }
   ],
   "source": [
    "example_sequence = train_sequence_list[10]\n",
    "\n",
    "size = 5\n",
    "posteriors_neural_mfcc = np.array(generate_posteriors_from_list_sequence(example_sequence, model.predict_proba, mfcc))\n",
    "predicted_sequence = viterbi_decoder(posteriors_neural_mfcc, transmat)\n",
    "predicted_sequence_beam = beam_search_decoder(posteriors_neural_mfcc, transmat, size)\n",
    "predicted_sequence_greedy = greedy_decoder(posteriors_neural_mfcc)\n",
    "print('True sentence: ', ' '.join(sequence_format_to_text(example_sequence)))\n",
    "print('Predicted sentence with viterbi search: ', ' '.join(predicted_sequence))\n",
    "print('Predicted sentence with beam search size '+str(size)+': ', ' '.join(predicted_sequence_beam))\n",
    "print('Predicted sentence with greedy search: ', ' '.join(predicted_sequence_greedy))\n",
    "print('WER: ',jiwer.wer(' '.join(sequence_format_to_text(example_sequence)),' '.join(predicted_sequence)))"
   ]
  },
  {
   "cell_type": "code",
   "execution_count": 124,
   "metadata": {},
   "outputs": [
    {
     "name": "stdout",
     "output_type": "stream",
     "text": [
      "Beam size 1\n",
      "\tSubset Train WER:  0.41620727673649394\n",
      "\tTest WER:  0.4068627450980392\n",
      "\tEvaluation time: 56.11889290809631\n",
      "Beam size 2\n",
      "\tSubset Train WER:  0.4145534729878721\n",
      "\tTest WER:  0.4025054466230937\n",
      "\tEvaluation time: 56.993513345718384\n",
      "Beam size 3\n",
      "\tSubset Train WER:  0.402425578831312\n",
      "\tTest WER:  0.3899782135076253\n",
      "\tEvaluation time: 56.08376097679138\n",
      "Beam size 4\n",
      "\tSubset Train WER:  0.3814773980154355\n",
      "\tTest WER:  0.36764705882352944\n",
      "\tEvaluation time: 56.23930764198303\n",
      "Beam size 5\n",
      "\tSubset Train WER:  0.33517089305402425\n",
      "\tTest WER:  0.340958605664488\n",
      "\tEvaluation time: 56.85366106033325\n"
     ]
    }
   ],
   "source": [
    "# Evaluation of WER for beam-search decoding\n",
    "gen_post = generate_posteriors_from_list_sequence\n",
    "data = model.predict_proba\n",
    "subset_train = np.random.choice(train_sequence_list, 300, \n",
    "                                 replace=False)\n",
    "beam_sizes = range(1, 6)\n",
    "post_neural_trains = []\n",
    "post_neural_tests = []\n",
    "\n",
    "for sentence in subset_train:\n",
    "    post_neural_trains.append(\n",
    "        np.array(gen_post(sentence, data, mfcc)))\n",
    "        \n",
    "for sentence in test_sequence_list:\n",
    "    post_neural_tests.append(\n",
    "        np.array(gen_post(sentence, data, mfcc)))\n",
    "    \n",
    "for beam_size in beam_sizes:\n",
    "    train_hypothesis = []\n",
    "    train_reference = []\n",
    "\n",
    "    for sentence, post_neural_train in zip(subset_train, post_neural_trains):\n",
    "        predicted_sequence = beam_search_decoder(post_neural_train, transmat, beam_size)\n",
    "        train_hypothesis.append(' '.join(predicted_sequence))\n",
    "        train_reference.append(' '.join(sequence_format_to_text(sentence)))\n",
    "\n",
    "\n",
    "    test_hypothesis = []\n",
    "    test_reference = []\n",
    "    for sentence, post_neural_test in zip(test_sequence_list, post_neural_tests):\n",
    "        predicted_sequence = beam_search_decoder(post_neural_test, transmat, beam_size)\n",
    "        test_hypothesis.append(' '.join(predicted_sequence))\n",
    "        test_reference.append(' '.join(sequence_format_to_text(sentence)))\n",
    "\n",
    "    print(\"Beam size\", beam_size)\n",
    "    start = time.time()\n",
    "    print('\\tSubset Train WER: ',jiwer.wer(train_reference, train_hypothesis))\n",
    "    print('\\tTest WER: ',jiwer.wer(test_reference, test_hypothesis))\n",
    "    end = time.time()\n",
    "    print(\"\\tEvaluation time: \" + str(end-start))"
   ]
  },
  {
   "cell_type": "code",
   "execution_count": 127,
   "metadata": {},
   "outputs": [
    {
     "name": "stdout",
     "output_type": "stream",
     "text": [
      "Subset Train WER:  0.2779623477297896\n",
      "Test WER:  0.09041394335511982\n",
      "Evaluation time: 56.52092146873474\n"
     ]
    }
   ],
   "source": [
    "# Evaluation of WER for Viterbi decoding\n",
    "\n",
    "train_hypothesis = []\n",
    "train_reference = []\n",
    "\n",
    "# EVALUATION on the full train set takes too much time, so you should evaluate on a subset\n",
    "\n",
    "for sentence in  np.random.choice(train_sequence_list, 300, replace=False):\n",
    "    posteriors_neural_mfcc = np.array(generate_posteriors_from_list_sequence(sentence, model.predict_proba, mfcc))\n",
    "    predicted_sequence = greedy_decoder(posteriors_neural_mfcc)\n",
    "    train_hypothesis.append(' '.join(predicted_sequence))\n",
    "    train_reference.append(' '.join(sequence_format_to_text(sentence)))\n",
    "  \n",
    "  \n",
    "test_hypothesis = []\n",
    "test_reference = []\n",
    "for idx, sentence in enumerate(test_sequence_list):\n",
    "    posteriors_neural_mfcc = np.array(generate_posteriors_from_list_sequence(sentence, model.predict_proba, mfcc))\n",
    "    predicted_sequence = viterbi_decoder(posteriors_neural_mfcc, transmat)\n",
    "    test_hypothesis.append(' '.join(predicted_sequence))\n",
    "    test_reference.append(' '.join(sequence_format_to_text(sentence)))\n",
    "\n",
    "start = time.time()\n",
    "print('Subset Train WER: ',jiwer.wer(train_reference, train_hypothesis))\n",
    "print('Test WER: ',jiwer.wer(test_reference, test_hypothesis))\n",
    "\n",
    "end = time.time()\n",
    "\n",
    "print(\"Evaluation time: \" + str(end-start))\n"
   ]
  },
  {
   "cell_type": "code",
   "execution_count": null,
   "metadata": {},
   "outputs": [],
   "source": []
  }
 ],
 "metadata": {
  "kernelspec": {
   "display_name": "Python 3",
   "language": "python",
   "name": "python3"
  },
  "language_info": {
   "codemirror_mode": {
    "name": "ipython",
    "version": 3
   },
   "file_extension": ".py",
   "mimetype": "text/x-python",
   "name": "python",
   "nbconvert_exporter": "python",
   "pygments_lexer": "ipython3",
   "version": "3.5.2"
  }
 },
 "nbformat": 4,
 "nbformat_minor": 2
}
